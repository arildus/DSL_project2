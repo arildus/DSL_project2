{
 "cells": [
  {
   "cell_type": "code",
   "execution_count": 1,
   "metadata": {},
   "outputs": [],
   "source": [
    "import numpy as np\n",
    "import pandas as pd\n",
    "from sklearn.model_selection import train_test_split\n",
    "from sklearn.ensemble import RandomForestRegressor\n",
    "from sklearn.neural_network import MLPRegressor\n",
    "import helpers.processing_helpers as ph\n",
    "from sklearn.svm import LinearSVR\n",
    "from sklearn.multioutput import MultiOutputRegressor\n",
    "from sklearn.linear_model import LinearRegression"
   ]
  },
  {
   "cell_type": "code",
   "execution_count": 2,
   "metadata": {},
   "outputs": [],
   "source": [
    "df_dev = pd.read_csv(\"./dataset/development.csv\")"
   ]
  },
  {
   "cell_type": "code",
   "execution_count": 68,
   "metadata": {},
   "outputs": [],
   "source": [
    "subset = df_dev.sample(200000)"
   ]
  },
  {
   "cell_type": "code",
   "execution_count": null,
   "metadata": {},
   "outputs": [],
   "source": [
    "y_train_valid = subset[['x', 'y']].copy()\n",
    "\n",
    "X_train_valid = subset.drop(columns=['x', 'y'])"
   ]
  },
  {
   "cell_type": "code",
   "execution_count": null,
   "metadata": {},
   "outputs": [],
   "source": [
    "X_train, X_valid, y_train, y_valid = train_test_split(X_train_valid, y_train_valid, shuffle=True, random_state=42)"
   ]
  },
  {
   "cell_type": "code",
   "execution_count": null,
   "metadata": {},
   "outputs": [
    {
     "name": "stderr",
     "output_type": "stream",
     "text": [
      "[Parallel(n_jobs=1)]: Done  49 tasks      | elapsed:  2.2min\n",
      "[Parallel(n_jobs=1)]: Done  49 tasks      | elapsed:    0.0s\n"
     ]
    },
    {
     "data": {
      "text/plain": [
       "0.9974940429058765"
      ]
     },
     "execution_count": 8,
     "metadata": {},
     "output_type": "execute_result"
    }
   ],
   "source": [
    "reg = RandomForestRegressor(100, random_state=42)\n",
    "reg.fit(X_train , y_train)"
   ]
  },
  {
   "cell_type": "code",
   "execution_count": null,
   "metadata": {},
   "outputs": [
    {
     "name": "stdout",
     "output_type": "stream",
     "text": [
      "6.034339648110773\n"
     ]
    },
    {
     "name": "stderr",
     "output_type": "stream",
     "text": [
      "[Parallel(n_jobs=1)]: Done  49 tasks      | elapsed:    0.0s\n"
     ]
    }
   ],
   "source": [
    "med_with_noise = ph.mean_euclid_dist(y_valid, reg.predict(X_valid))\n",
    "print(med_with_noise)"
   ]
  },
  {
   "cell_type": "code",
   "execution_count": null,
   "metadata": {},
   "outputs": [
    {
     "data": {
      "text/plain": [
       "[('pmax[8]', 0.36531827093782604),\n",
       " ('pmax[11]', 0.24200094225924315),\n",
       " ('pmax[10]', 0.1550234916755122),\n",
       " ('pmax[5]', 0.08386749649625616),\n",
       " ('pmax[13]', 0.035135405634305866),\n",
       " ('negpmax[13]', 0.026835622720675297),\n",
       " ('pmax[9]', 0.015287941891783835),\n",
       " ('negpmax[10]', 0.011671145716784813),\n",
       " ('negpmax[3]', 0.010573816627380437),\n",
       " ('negpmax[11]', 0.01037597951401781),\n",
       " ('pmax[4]', 0.006175032739158957),\n",
       " ('negpmax[5]', 0.005640025638681187),\n",
       " ('negpmax[8]', 0.004437650119396651),\n",
       " ('negpmax[1]', 0.004073220149525142),\n",
       " ('pmax[3]', 0.0037901723981325474),\n",
       " ('negpmax[6]', 0.0027384499593256367),\n",
       " ('negpmax[4]', 0.002490787437037326),\n",
       " ('negpmax[14]', 0.0023181677883974657),\n",
       " ('pmax[1]', 0.00199689404596475),\n",
       " ('pmax[2]', 0.0016538179841708868),\n",
       " ('area[5]', 0.0013903451323228093),\n",
       " ('negpmax[9]', 0.0012310377425118356),\n",
       " ('pmax[6]', 0.0010321829803238993),\n",
       " ('pmax[14]', 0.0008872746110166745),\n",
       " ('negpmax[2]', 0.00037728039616458374),\n",
       " ('pmax[15]', 0.00036939524370810465),\n",
       " ('area[3]', 0.00035462104819580017),\n",
       " ('area[13]', 0.00030334540600253433),\n",
       " ('area[10]', 0.00030282419287086315),\n",
       " ('area[14]', 0.00017818840541168688),\n",
       " ('area[11]', 0.0001777556383177525),\n",
       " ('area[6]', 0.0001712177727861699),\n",
       " ('area[1]', 0.0001595986829414761),\n",
       " ('area[8]', 0.00015181447174785417),\n",
       " ('area[9]', 0.00012094750935996221),\n",
       " ('area[4]', 8.733102736517569e-05),\n",
       " ('area[2]', 8.398400180408942e-05),\n",
       " ('area[15]', 8.305058339023388e-05),\n",
       " ('tmax[2]', 4.2269878040448574e-05),\n",
       " ('rms[11]', 2.981494497553639e-05),\n",
       " ('rms[12]', 2.8526912349208627e-05),\n",
       " ('tmax[1]', 2.773342979754575e-05),\n",
       " ('pmax[12]', 2.6606888880899454e-05),\n",
       " ('pmax[16]', 2.590223852554239e-05),\n",
       " ('rms[2]', 2.556624457418101e-05),\n",
       " ('rms[4]', 2.5494693340640608e-05),\n",
       " ('negpmax[12]', 2.4965237602861376e-05),\n",
       " ('rms[6]', 2.459188661568025e-05),\n",
       " ('area[16]', 2.455940866103558e-05),\n",
       " ('rms[0]', 2.3971902589176164e-05),\n",
       " ('rms[13]', 2.3956046416061098e-05),\n",
       " ('rms[3]', 2.3899743979127622e-05),\n",
       " ('pmax[17]', 2.3644735025755734e-05),\n",
       " ('rms[7]', 2.316055641172502e-05),\n",
       " ('rms[14]', 2.3073177529247756e-05),\n",
       " ('negpmax[17]', 2.3044318534743163e-05),\n",
       " ('negpmax[16]', 2.2979219120916037e-05),\n",
       " ('negpmax[0]', 2.2922494530462877e-05),\n",
       " ('area[17]', 2.290016297075316e-05),\n",
       " ('rms[1]', 2.2840163840496917e-05),\n",
       " ('pmax[0]', 2.2751448805282925e-05),\n",
       " ('negpmax[15]', 2.2724162554355526e-05),\n",
       " ('rms[9]', 2.2659375372260796e-05),\n",
       " ('pmax[7]', 2.2659234271258897e-05),\n",
       " ('rms[17]', 2.260248486721376e-05),\n",
       " ('tmax[4]', 2.255444702763091e-05),\n",
       " ('negpmax[7]', 2.245709756650489e-05),\n",
       " ('area[0]', 2.225338582103279e-05),\n",
       " ('rms[5]', 2.22232181573274e-05),\n",
       " ('rms[10]', 2.2220774150178865e-05),\n",
       " ('tmax[7]', 2.2122581532459715e-05),\n",
       " ('tmax[0]', 2.1894738901094865e-05),\n",
       " ('rms[15]', 2.1793125207331102e-05),\n",
       " ('rms[8]', 2.1634272670209477e-05),\n",
       " ('rms[16]', 2.1575646846655502e-05),\n",
       " ('area[12]', 2.1558397877099864e-05),\n",
       " ('tmax[12]', 2.0898527185291707e-05),\n",
       " ('area[7]', 2.05576530474276e-05),\n",
       " ('tmax[3]', 1.9669165572658317e-05),\n",
       " ('tmax[14]', 1.8630343906892204e-05),\n",
       " ('tmax[17]', 1.5668578041966025e-05),\n",
       " ('tmax[8]', 1.557935170431282e-05),\n",
       " ('tmax[15]', 1.5456914587816223e-05),\n",
       " ('tmax[9]', 1.5002339570506013e-05),\n",
       " ('tmax[6]', 1.4935637264883868e-05),\n",
       " ('tmax[16]', 1.447548362346671e-05),\n",
       " ('tmax[11]', 1.260678937793428e-05),\n",
       " ('tmax[5]', 1.1307816906636988e-05),\n",
       " ('tmax[10]', 1.1257586752501452e-05),\n",
       " ('tmax[13]', 9.318556700229536e-06)]"
      ]
     },
     "execution_count": 10,
     "metadata": {},
     "output_type": "execute_result"
    }
   ],
   "source": [
    "sorted(zip(X_train_valid.columns, reg.feature_importances_), key=lambda x: x[1],reverse=True)"
   ]
  },
  {
   "cell_type": "code",
   "execution_count": 69,
   "metadata": {},
   "outputs": [],
   "source": [
    "noise_indexes = [0,7,12,15,16,17]\n",
    "features = [\"pmax\", \"negpmax\", 'area', 'tmax', 'rms']\n",
    "\n",
    "noise_removed = subset.drop(columns=ph.get_column_names(features, noise_indexes))"
   ]
  },
  {
   "cell_type": "code",
   "execution_count": 12,
   "metadata": {},
   "outputs": [
    {
     "name": "stderr",
     "output_type": "stream",
     "text": [
      "[Parallel(n_jobs=1)]: Done  49 tasks      | elapsed:  1.5min\n"
     ]
    },
    {
     "data": {
      "text/html": [
       "<style>#sk-container-id-1 {color: black;}#sk-container-id-1 pre{padding: 0;}#sk-container-id-1 div.sk-toggleable {background-color: white;}#sk-container-id-1 label.sk-toggleable__label {cursor: pointer;display: block;width: 100%;margin-bottom: 0;padding: 0.3em;box-sizing: border-box;text-align: center;}#sk-container-id-1 label.sk-toggleable__label-arrow:before {content: \"▸\";float: left;margin-right: 0.25em;color: #696969;}#sk-container-id-1 label.sk-toggleable__label-arrow:hover:before {color: black;}#sk-container-id-1 div.sk-estimator:hover label.sk-toggleable__label-arrow:before {color: black;}#sk-container-id-1 div.sk-toggleable__content {max-height: 0;max-width: 0;overflow: hidden;text-align: left;background-color: #f0f8ff;}#sk-container-id-1 div.sk-toggleable__content pre {margin: 0.2em;color: black;border-radius: 0.25em;background-color: #f0f8ff;}#sk-container-id-1 input.sk-toggleable__control:checked~div.sk-toggleable__content {max-height: 200px;max-width: 100%;overflow: auto;}#sk-container-id-1 input.sk-toggleable__control:checked~label.sk-toggleable__label-arrow:before {content: \"▾\";}#sk-container-id-1 div.sk-estimator input.sk-toggleable__control:checked~label.sk-toggleable__label {background-color: #d4ebff;}#sk-container-id-1 div.sk-label input.sk-toggleable__control:checked~label.sk-toggleable__label {background-color: #d4ebff;}#sk-container-id-1 input.sk-hidden--visually {border: 0;clip: rect(1px 1px 1px 1px);clip: rect(1px, 1px, 1px, 1px);height: 1px;margin: -1px;overflow: hidden;padding: 0;position: absolute;width: 1px;}#sk-container-id-1 div.sk-estimator {font-family: monospace;background-color: #f0f8ff;border: 1px dotted black;border-radius: 0.25em;box-sizing: border-box;margin-bottom: 0.5em;}#sk-container-id-1 div.sk-estimator:hover {background-color: #d4ebff;}#sk-container-id-1 div.sk-parallel-item::after {content: \"\";width: 100%;border-bottom: 1px solid gray;flex-grow: 1;}#sk-container-id-1 div.sk-label:hover label.sk-toggleable__label {background-color: #d4ebff;}#sk-container-id-1 div.sk-serial::before {content: \"\";position: absolute;border-left: 1px solid gray;box-sizing: border-box;top: 0;bottom: 0;left: 50%;z-index: 0;}#sk-container-id-1 div.sk-serial {display: flex;flex-direction: column;align-items: center;background-color: white;padding-right: 0.2em;padding-left: 0.2em;position: relative;}#sk-container-id-1 div.sk-item {position: relative;z-index: 1;}#sk-container-id-1 div.sk-parallel {display: flex;align-items: stretch;justify-content: center;background-color: white;position: relative;}#sk-container-id-1 div.sk-item::before, #sk-container-id-1 div.sk-parallel-item::before {content: \"\";position: absolute;border-left: 1px solid gray;box-sizing: border-box;top: 0;bottom: 0;left: 50%;z-index: -1;}#sk-container-id-1 div.sk-parallel-item {display: flex;flex-direction: column;z-index: 1;position: relative;background-color: white;}#sk-container-id-1 div.sk-parallel-item:first-child::after {align-self: flex-end;width: 50%;}#sk-container-id-1 div.sk-parallel-item:last-child::after {align-self: flex-start;width: 50%;}#sk-container-id-1 div.sk-parallel-item:only-child::after {width: 0;}#sk-container-id-1 div.sk-dashed-wrapped {border: 1px dashed gray;margin: 0 0.4em 0.5em 0.4em;box-sizing: border-box;padding-bottom: 0.4em;background-color: white;}#sk-container-id-1 div.sk-label label {font-family: monospace;font-weight: bold;display: inline-block;line-height: 1.2em;}#sk-container-id-1 div.sk-label-container {text-align: center;}#sk-container-id-1 div.sk-container {/* jupyter's `normalize.less` sets `[hidden] { display: none; }` but bootstrap.min.css set `[hidden] { display: none !important; }` so we also need the `!important` here to be able to override the default hidden behavior on the sphinx rendered scikit-learn.org. See: https://github.com/scikit-learn/scikit-learn/issues/21755 */display: inline-block !important;position: relative;}#sk-container-id-1 div.sk-text-repr-fallback {display: none;}</style><div id=\"sk-container-id-1\" class=\"sk-top-container\"><div class=\"sk-text-repr-fallback\"><pre>RandomForestRegressor(random_state=42, verbose=1)</pre><b>In a Jupyter environment, please rerun this cell to show the HTML representation or trust the notebook. <br />On GitHub, the HTML representation is unable to render, please try loading this page with nbviewer.org.</b></div><div class=\"sk-container\" hidden><div class=\"sk-item\"><div class=\"sk-estimator sk-toggleable\"><input class=\"sk-toggleable__control sk-hidden--visually\" id=\"sk-estimator-id-1\" type=\"checkbox\" checked><label for=\"sk-estimator-id-1\" class=\"sk-toggleable__label sk-toggleable__label-arrow\">RandomForestRegressor</label><div class=\"sk-toggleable__content\"><pre>RandomForestRegressor(random_state=42, verbose=1)</pre></div></div></div></div></div>"
      ],
      "text/plain": [
       "RandomForestRegressor(random_state=42, verbose=1)"
      ]
     },
     "execution_count": 12,
     "metadata": {},
     "output_type": "execute_result"
    }
   ],
   "source": [
    "y_train_valid = noise_removed[['x', 'y']].copy()\n",
    "\n",
    "X_train_valid = noise_removed.drop(columns=['x', 'y'])\n",
    "\n",
    "X_train, X_valid, y_train, y_valid = train_test_split(X_train_valid, y_train_valid, shuffle=True, random_state=42)\n",
    "\n",
    "X_train[\"RANDOM\"] = np.random.RandomState(42).randn(X_train.shape[0])\n",
    "\n",
    "X_valid[\"RANDOM\"] = np.random.RandomState(42).randn(X_valid.shape[0])\n",
    "\n",
    "reg = RandomForestRegressor(100, random_state=42, verbose=1)\n",
    "reg.fit(X_train , y_train)"
   ]
  },
  {
   "cell_type": "code",
   "execution_count": 13,
   "metadata": {},
   "outputs": [
    {
     "name": "stdout",
     "output_type": "stream",
     "text": [
      "5.9749290657933525\n"
     ]
    },
    {
     "name": "stderr",
     "output_type": "stream",
     "text": [
      "[Parallel(n_jobs=1)]: Done  49 tasks      | elapsed:    0.0s\n"
     ]
    }
   ],
   "source": [
    "med_without_noise = ph.mean_euclid_dist(y_valid, reg.predict(X_valid))\n",
    "print(med_without_noise)"
   ]
  },
  {
   "cell_type": "code",
   "execution_count": 14,
   "metadata": {},
   "outputs": [
    {
     "data": {
      "text/plain": [
       "[('pmax[8]', 0.35919939467781353),\n",
       " ('pmax[11]', 0.2465764896563688),\n",
       " ('pmax[10]', 0.12072256899748196),\n",
       " ('pmax[5]', 0.08552980035222958),\n",
       " ('negpmax[10]', 0.04908274539424266),\n",
       " ('pmax[13]', 0.04076497404389449),\n",
       " ('negpmax[13]', 0.020043190275787878),\n",
       " ('negpmax[3]', 0.013678232117085316),\n",
       " ('pmax[9]', 0.01064152860119482),\n",
       " ('negpmax[11]', 0.008678075494486867),\n",
       " ('pmax[4]', 0.0076229278714844625),\n",
       " ('negpmax[5]', 0.005996493890753078),\n",
       " ('negpmax[8]', 0.004331507994431463),\n",
       " ('pmax[3]', 0.0038964548839531352),\n",
       " ('negpmax[1]', 0.0037577635264512484),\n",
       " ('negpmax[6]', 0.003162798664943817),\n",
       " ('negpmax[4]', 0.0024324342968564065),\n",
       " ('negpmax[14]', 0.0022357302202393524),\n",
       " ('pmax[1]', 0.002172688689590872),\n",
       " ('pmax[2]', 0.002101688085456933),\n",
       " ('pmax[6]', 0.0012446883190621145),\n",
       " ('negpmax[9]', 0.0011706262952725414),\n",
       " ('pmax[14]', 0.0009010138504360996),\n",
       " ('area[5]', 0.0008957620065835679),\n",
       " ('area[13]', 0.0003110824522480881),\n",
       " ('area[3]', 0.0003110000301892652),\n",
       " ('area[10]', 0.0002789973511876326),\n",
       " ('area[11]', 0.00027243923450781044),\n",
       " ('negpmax[2]', 0.00027053966257861207),\n",
       " ('area[8]', 0.00022041043966143992),\n",
       " ('area[14]', 0.00021679959330139965),\n",
       " ('area[9]', 0.0001558464609319545),\n",
       " ('area[6]', 0.0001313454556382281),\n",
       " ('area[4]', 0.00010413605147140561),\n",
       " ('area[1]', 9.627887341774097e-05),\n",
       " ('area[2]', 5.9912772884535375e-05),\n",
       " ('tmax[2]', 4.2837886062785925e-05),\n",
       " ('rms[5]', 4.079024798890301e-05),\n",
       " ('rms[9]', 3.506253774459285e-05),\n",
       " ('rms[1]', 3.310698511043762e-05),\n",
       " ('rms[2]', 3.2777686943342875e-05),\n",
       " ('rms[6]', 3.238677562031821e-05),\n",
       " ('rms[3]', 3.223102494383331e-05),\n",
       " ('rms[10]', 3.2071799299312676e-05),\n",
       " ('RANDOM', 3.179446749631451e-05),\n",
       " ('rms[13]', 3.171142872300004e-05),\n",
       " ('rms[11]', 3.13034339758492e-05),\n",
       " ('rms[14]', 3.12529494154783e-05),\n",
       " ('rms[4]', 3.075781692562487e-05),\n",
       " ('rms[8]', 3.0227535239256393e-05),\n",
       " ('tmax[6]', 3.0007972189421722e-05),\n",
       " ('tmax[1]', 2.7911440131945315e-05),\n",
       " ('tmax[11]', 2.7319382785996436e-05),\n",
       " ('tmax[3]', 2.4984824681920626e-05),\n",
       " ('tmax[14]', 2.4774525420415144e-05),\n",
       " ('tmax[9]', 2.4351547794743615e-05),\n",
       " ('tmax[10]', 2.4204115760121975e-05),\n",
       " ('tmax[4]', 2.3444121287471506e-05),\n",
       " ('tmax[8]', 2.2443472730492753e-05),\n",
       " ('tmax[5]', 1.783575137045785e-05),\n",
       " ('tmax[13]', 1.6043686238774948e-05)]"
      ]
     },
     "execution_count": 14,
     "metadata": {},
     "output_type": "execute_result"
    }
   ],
   "source": [
    "sorted(zip(X_train.columns, reg.feature_importances_), key=lambda x: x[1],reverse=True)"
   ]
  },
  {
   "cell_type": "code",
   "execution_count": 15,
   "metadata": {},
   "outputs": [
    {
     "data": {
      "text/html": [
       "<div>\n",
       "<style scoped>\n",
       "    .dataframe tbody tr th:only-of-type {\n",
       "        vertical-align: middle;\n",
       "    }\n",
       "\n",
       "    .dataframe tbody tr th {\n",
       "        vertical-align: top;\n",
       "    }\n",
       "\n",
       "    .dataframe thead th {\n",
       "        text-align: right;\n",
       "    }\n",
       "</style>\n",
       "<table border=\"1\" class=\"dataframe\">\n",
       "  <thead>\n",
       "    <tr style=\"text-align: right;\">\n",
       "      <th></th>\n",
       "      <th>x</th>\n",
       "      <th>y</th>\n",
       "      <th>pmax[1]</th>\n",
       "      <th>negpmax[1]</th>\n",
       "      <th>area[1]</th>\n",
       "      <th>rms[1]</th>\n",
       "      <th>pmax[2]</th>\n",
       "      <th>negpmax[2]</th>\n",
       "      <th>area[2]</th>\n",
       "      <th>rms[2]</th>\n",
       "      <th>...</th>\n",
       "      <th>area[11]</th>\n",
       "      <th>rms[11]</th>\n",
       "      <th>pmax[13]</th>\n",
       "      <th>negpmax[13]</th>\n",
       "      <th>area[13]</th>\n",
       "      <th>rms[13]</th>\n",
       "      <th>pmax[14]</th>\n",
       "      <th>negpmax[14]</th>\n",
       "      <th>area[14]</th>\n",
       "      <th>rms[14]</th>\n",
       "    </tr>\n",
       "  </thead>\n",
       "  <tbody>\n",
       "    <tr>\n",
       "      <th>34625</th>\n",
       "      <td>230.0</td>\n",
       "      <td>310.0</td>\n",
       "      <td>5.348051</td>\n",
       "      <td>-4.648804</td>\n",
       "      <td>12.152222</td>\n",
       "      <td>2.013025</td>\n",
       "      <td>6.714259</td>\n",
       "      <td>-3.104941</td>\n",
       "      <td>8.109871</td>\n",
       "      <td>0.923330</td>\n",
       "      <td>...</td>\n",
       "      <td>4.502872</td>\n",
       "      <td>1.402630</td>\n",
       "      <td>14.019574</td>\n",
       "      <td>-3.699420</td>\n",
       "      <td>15.275155</td>\n",
       "      <td>1.663140</td>\n",
       "      <td>6.616529</td>\n",
       "      <td>-5.207074</td>\n",
       "      <td>4.660941</td>\n",
       "      <td>1.627708</td>\n",
       "    </tr>\n",
       "    <tr>\n",
       "      <th>321674</th>\n",
       "      <td>545.0</td>\n",
       "      <td>500.0</td>\n",
       "      <td>50.839157</td>\n",
       "      <td>-28.475906</td>\n",
       "      <td>28.840155</td>\n",
       "      <td>1.136354</td>\n",
       "      <td>21.097842</td>\n",
       "      <td>-7.294614</td>\n",
       "      <td>9.704996</td>\n",
       "      <td>1.512880</td>\n",
       "      <td>...</td>\n",
       "      <td>6.469504</td>\n",
       "      <td>1.009969</td>\n",
       "      <td>54.198132</td>\n",
       "      <td>-29.839709</td>\n",
       "      <td>33.210144</td>\n",
       "      <td>1.342560</td>\n",
       "      <td>19.785873</td>\n",
       "      <td>-8.721756</td>\n",
       "      <td>12.237433</td>\n",
       "      <td>1.335298</td>\n",
       "    </tr>\n",
       "    <tr>\n",
       "      <th>347083</th>\n",
       "      <td>570.0</td>\n",
       "      <td>280.0</td>\n",
       "      <td>17.823843</td>\n",
       "      <td>-6.615488</td>\n",
       "      <td>10.438300</td>\n",
       "      <td>1.457986</td>\n",
       "      <td>4.029828</td>\n",
       "      <td>-5.459930</td>\n",
       "      <td>1.498529</td>\n",
       "      <td>1.096616</td>\n",
       "      <td>...</td>\n",
       "      <td>29.890898</td>\n",
       "      <td>1.346239</td>\n",
       "      <td>56.622235</td>\n",
       "      <td>-30.477496</td>\n",
       "      <td>28.527908</td>\n",
       "      <td>1.604346</td>\n",
       "      <td>74.486804</td>\n",
       "      <td>-44.708966</td>\n",
       "      <td>39.585242</td>\n",
       "      <td>1.529592</td>\n",
       "    </tr>\n",
       "    <tr>\n",
       "      <th>112039</th>\n",
       "      <td>305.0</td>\n",
       "      <td>350.0</td>\n",
       "      <td>5.413358</td>\n",
       "      <td>-4.514621</td>\n",
       "      <td>3.345485</td>\n",
       "      <td>1.523706</td>\n",
       "      <td>3.895712</td>\n",
       "      <td>-4.210794</td>\n",
       "      <td>4.186127</td>\n",
       "      <td>1.444183</td>\n",
       "      <td>...</td>\n",
       "      <td>11.588037</td>\n",
       "      <td>1.051934</td>\n",
       "      <td>27.694763</td>\n",
       "      <td>-10.296997</td>\n",
       "      <td>14.616467</td>\n",
       "      <td>1.158872</td>\n",
       "      <td>6.843442</td>\n",
       "      <td>-4.792911</td>\n",
       "      <td>8.186821</td>\n",
       "      <td>0.962266</td>\n",
       "    </tr>\n",
       "    <tr>\n",
       "      <th>60567</th>\n",
       "      <td>250.0</td>\n",
       "      <td>465.0</td>\n",
       "      <td>4.356668</td>\n",
       "      <td>-4.101782</td>\n",
       "      <td>6.719417</td>\n",
       "      <td>1.388255</td>\n",
       "      <td>3.972430</td>\n",
       "      <td>-4.348142</td>\n",
       "      <td>2.427769</td>\n",
       "      <td>0.980960</td>\n",
       "      <td>...</td>\n",
       "      <td>5.703888</td>\n",
       "      <td>1.003586</td>\n",
       "      <td>12.922034</td>\n",
       "      <td>-5.928003</td>\n",
       "      <td>8.763921</td>\n",
       "      <td>0.928184</td>\n",
       "      <td>4.585940</td>\n",
       "      <td>-4.216483</td>\n",
       "      <td>4.747282</td>\n",
       "      <td>1.458534</td>\n",
       "    </tr>\n",
       "    <tr>\n",
       "      <th>...</th>\n",
       "      <td>...</td>\n",
       "      <td>...</td>\n",
       "      <td>...</td>\n",
       "      <td>...</td>\n",
       "      <td>...</td>\n",
       "      <td>...</td>\n",
       "      <td>...</td>\n",
       "      <td>...</td>\n",
       "      <td>...</td>\n",
       "      <td>...</td>\n",
       "      <td>...</td>\n",
       "      <td>...</td>\n",
       "      <td>...</td>\n",
       "      <td>...</td>\n",
       "      <td>...</td>\n",
       "      <td>...</td>\n",
       "      <td>...</td>\n",
       "      <td>...</td>\n",
       "      <td>...</td>\n",
       "      <td>...</td>\n",
       "      <td>...</td>\n",
       "    </tr>\n",
       "    <tr>\n",
       "      <th>79863</th>\n",
       "      <td>270.0</td>\n",
       "      <td>345.0</td>\n",
       "      <td>4.948703</td>\n",
       "      <td>-4.210634</td>\n",
       "      <td>3.852511</td>\n",
       "      <td>1.563000</td>\n",
       "      <td>4.095816</td>\n",
       "      <td>-4.465941</td>\n",
       "      <td>1.866143</td>\n",
       "      <td>1.489051</td>\n",
       "      <td>...</td>\n",
       "      <td>12.100421</td>\n",
       "      <td>0.903577</td>\n",
       "      <td>19.283597</td>\n",
       "      <td>-9.546970</td>\n",
       "      <td>13.182732</td>\n",
       "      <td>1.136538</td>\n",
       "      <td>4.831732</td>\n",
       "      <td>-5.587214</td>\n",
       "      <td>2.540865</td>\n",
       "      <td>1.748688</td>\n",
       "    </tr>\n",
       "    <tr>\n",
       "      <th>45439</th>\n",
       "      <td>240.0</td>\n",
       "      <td>205.0</td>\n",
       "      <td>4.565583</td>\n",
       "      <td>-3.698386</td>\n",
       "      <td>3.553262</td>\n",
       "      <td>1.036240</td>\n",
       "      <td>5.314240</td>\n",
       "      <td>-5.128571</td>\n",
       "      <td>2.938818</td>\n",
       "      <td>1.342098</td>\n",
       "      <td>...</td>\n",
       "      <td>9.226533</td>\n",
       "      <td>1.567863</td>\n",
       "      <td>12.395941</td>\n",
       "      <td>-4.786432</td>\n",
       "      <td>7.786508</td>\n",
       "      <td>0.633836</td>\n",
       "      <td>4.667148</td>\n",
       "      <td>-6.742276</td>\n",
       "      <td>2.657169</td>\n",
       "      <td>1.046773</td>\n",
       "    </tr>\n",
       "    <tr>\n",
       "      <th>118071</th>\n",
       "      <td>325.0</td>\n",
       "      <td>365.0</td>\n",
       "      <td>5.845828</td>\n",
       "      <td>-3.874579</td>\n",
       "      <td>4.629249</td>\n",
       "      <td>0.945597</td>\n",
       "      <td>4.993250</td>\n",
       "      <td>-4.955664</td>\n",
       "      <td>2.854639</td>\n",
       "      <td>1.312238</td>\n",
       "      <td>...</td>\n",
       "      <td>10.113978</td>\n",
       "      <td>1.149586</td>\n",
       "      <td>21.735974</td>\n",
       "      <td>-7.542163</td>\n",
       "      <td>12.076418</td>\n",
       "      <td>1.245374</td>\n",
       "      <td>5.781720</td>\n",
       "      <td>-5.381366</td>\n",
       "      <td>2.966754</td>\n",
       "      <td>1.060008</td>\n",
       "    </tr>\n",
       "    <tr>\n",
       "      <th>167056</th>\n",
       "      <td>375.0</td>\n",
       "      <td>380.0</td>\n",
       "      <td>7.665552</td>\n",
       "      <td>-3.926001</td>\n",
       "      <td>4.105273</td>\n",
       "      <td>0.654876</td>\n",
       "      <td>6.754630</td>\n",
       "      <td>-4.100168</td>\n",
       "      <td>4.815539</td>\n",
       "      <td>1.410131</td>\n",
       "      <td>...</td>\n",
       "      <td>14.144662</td>\n",
       "      <td>0.993153</td>\n",
       "      <td>60.257803</td>\n",
       "      <td>-29.172372</td>\n",
       "      <td>30.621620</td>\n",
       "      <td>1.469711</td>\n",
       "      <td>12.769928</td>\n",
       "      <td>-5.586145</td>\n",
       "      <td>9.742466</td>\n",
       "      <td>1.663797</td>\n",
       "    </tr>\n",
       "    <tr>\n",
       "      <th>221295</th>\n",
       "      <td>425.0</td>\n",
       "      <td>280.0</td>\n",
       "      <td>10.003769</td>\n",
       "      <td>-4.629227</td>\n",
       "      <td>7.743106</td>\n",
       "      <td>1.535593</td>\n",
       "      <td>4.785999</td>\n",
       "      <td>-4.620862</td>\n",
       "      <td>2.869431</td>\n",
       "      <td>1.058133</td>\n",
       "      <td>...</td>\n",
       "      <td>29.447196</td>\n",
       "      <td>1.752143</td>\n",
       "      <td>59.895126</td>\n",
       "      <td>-32.467056</td>\n",
       "      <td>26.563870</td>\n",
       "      <td>1.219095</td>\n",
       "      <td>14.123965</td>\n",
       "      <td>-10.235226</td>\n",
       "      <td>8.025919</td>\n",
       "      <td>1.219815</td>\n",
       "    </tr>\n",
       "  </tbody>\n",
       "</table>\n",
       "<p>20000 rows × 50 columns</p>\n",
       "</div>"
      ],
      "text/plain": [
       "            x      y    pmax[1]  negpmax[1]    area[1]    rms[1]    pmax[2]  \\\n",
       "34625   230.0  310.0   5.348051   -4.648804  12.152222  2.013025   6.714259   \n",
       "321674  545.0  500.0  50.839157  -28.475906  28.840155  1.136354  21.097842   \n",
       "347083  570.0  280.0  17.823843   -6.615488  10.438300  1.457986   4.029828   \n",
       "112039  305.0  350.0   5.413358   -4.514621   3.345485  1.523706   3.895712   \n",
       "60567   250.0  465.0   4.356668   -4.101782   6.719417  1.388255   3.972430   \n",
       "...       ...    ...        ...         ...        ...       ...        ...   \n",
       "79863   270.0  345.0   4.948703   -4.210634   3.852511  1.563000   4.095816   \n",
       "45439   240.0  205.0   4.565583   -3.698386   3.553262  1.036240   5.314240   \n",
       "118071  325.0  365.0   5.845828   -3.874579   4.629249  0.945597   4.993250   \n",
       "167056  375.0  380.0   7.665552   -3.926001   4.105273  0.654876   6.754630   \n",
       "221295  425.0  280.0  10.003769   -4.629227   7.743106  1.535593   4.785999   \n",
       "\n",
       "        negpmax[2]   area[2]    rms[2]  ...   area[11]   rms[11]   pmax[13]  \\\n",
       "34625    -3.104941  8.109871  0.923330  ...   4.502872  1.402630  14.019574   \n",
       "321674   -7.294614  9.704996  1.512880  ...   6.469504  1.009969  54.198132   \n",
       "347083   -5.459930  1.498529  1.096616  ...  29.890898  1.346239  56.622235   \n",
       "112039   -4.210794  4.186127  1.444183  ...  11.588037  1.051934  27.694763   \n",
       "60567    -4.348142  2.427769  0.980960  ...   5.703888  1.003586  12.922034   \n",
       "...            ...       ...       ...  ...        ...       ...        ...   \n",
       "79863    -4.465941  1.866143  1.489051  ...  12.100421  0.903577  19.283597   \n",
       "45439    -5.128571  2.938818  1.342098  ...   9.226533  1.567863  12.395941   \n",
       "118071   -4.955664  2.854639  1.312238  ...  10.113978  1.149586  21.735974   \n",
       "167056   -4.100168  4.815539  1.410131  ...  14.144662  0.993153  60.257803   \n",
       "221295   -4.620862  2.869431  1.058133  ...  29.447196  1.752143  59.895126   \n",
       "\n",
       "        negpmax[13]   area[13]   rms[13]   pmax[14]  negpmax[14]   area[14]  \\\n",
       "34625     -3.699420  15.275155  1.663140   6.616529    -5.207074   4.660941   \n",
       "321674   -29.839709  33.210144  1.342560  19.785873    -8.721756  12.237433   \n",
       "347083   -30.477496  28.527908  1.604346  74.486804   -44.708966  39.585242   \n",
       "112039   -10.296997  14.616467  1.158872   6.843442    -4.792911   8.186821   \n",
       "60567     -5.928003   8.763921  0.928184   4.585940    -4.216483   4.747282   \n",
       "...             ...        ...       ...        ...          ...        ...   \n",
       "79863     -9.546970  13.182732  1.136538   4.831732    -5.587214   2.540865   \n",
       "45439     -4.786432   7.786508  0.633836   4.667148    -6.742276   2.657169   \n",
       "118071    -7.542163  12.076418  1.245374   5.781720    -5.381366   2.966754   \n",
       "167056   -29.172372  30.621620  1.469711  12.769928    -5.586145   9.742466   \n",
       "221295   -32.467056  26.563870  1.219095  14.123965   -10.235226   8.025919   \n",
       "\n",
       "         rms[14]  \n",
       "34625   1.627708  \n",
       "321674  1.335298  \n",
       "347083  1.529592  \n",
       "112039  0.962266  \n",
       "60567   1.458534  \n",
       "...          ...  \n",
       "79863   1.748688  \n",
       "45439   1.046773  \n",
       "118071  1.060008  \n",
       "167056  1.663797  \n",
       "221295  1.219815  \n",
       "\n",
       "[20000 rows x 50 columns]"
      ]
     },
     "execution_count": 15,
     "metadata": {},
     "output_type": "execute_result"
    }
   ],
   "source": [
    "acc_idxs = [1,2,3,4,5,6,8,9,10,11,13,14]\n",
    "\n",
    "tmax_removed = noise_removed.drop(columns=ph.get_column_names(['tmax'], acc_idxs))"
   ]
  },
  {
   "cell_type": "code",
   "execution_count": 16,
   "metadata": {},
   "outputs": [
    {
     "data": {
      "text/html": [
       "<style>#sk-container-id-2 {color: black;}#sk-container-id-2 pre{padding: 0;}#sk-container-id-2 div.sk-toggleable {background-color: white;}#sk-container-id-2 label.sk-toggleable__label {cursor: pointer;display: block;width: 100%;margin-bottom: 0;padding: 0.3em;box-sizing: border-box;text-align: center;}#sk-container-id-2 label.sk-toggleable__label-arrow:before {content: \"▸\";float: left;margin-right: 0.25em;color: #696969;}#sk-container-id-2 label.sk-toggleable__label-arrow:hover:before {color: black;}#sk-container-id-2 div.sk-estimator:hover label.sk-toggleable__label-arrow:before {color: black;}#sk-container-id-2 div.sk-toggleable__content {max-height: 0;max-width: 0;overflow: hidden;text-align: left;background-color: #f0f8ff;}#sk-container-id-2 div.sk-toggleable__content pre {margin: 0.2em;color: black;border-radius: 0.25em;background-color: #f0f8ff;}#sk-container-id-2 input.sk-toggleable__control:checked~div.sk-toggleable__content {max-height: 200px;max-width: 100%;overflow: auto;}#sk-container-id-2 input.sk-toggleable__control:checked~label.sk-toggleable__label-arrow:before {content: \"▾\";}#sk-container-id-2 div.sk-estimator input.sk-toggleable__control:checked~label.sk-toggleable__label {background-color: #d4ebff;}#sk-container-id-2 div.sk-label input.sk-toggleable__control:checked~label.sk-toggleable__label {background-color: #d4ebff;}#sk-container-id-2 input.sk-hidden--visually {border: 0;clip: rect(1px 1px 1px 1px);clip: rect(1px, 1px, 1px, 1px);height: 1px;margin: -1px;overflow: hidden;padding: 0;position: absolute;width: 1px;}#sk-container-id-2 div.sk-estimator {font-family: monospace;background-color: #f0f8ff;border: 1px dotted black;border-radius: 0.25em;box-sizing: border-box;margin-bottom: 0.5em;}#sk-container-id-2 div.sk-estimator:hover {background-color: #d4ebff;}#sk-container-id-2 div.sk-parallel-item::after {content: \"\";width: 100%;border-bottom: 1px solid gray;flex-grow: 1;}#sk-container-id-2 div.sk-label:hover label.sk-toggleable__label {background-color: #d4ebff;}#sk-container-id-2 div.sk-serial::before {content: \"\";position: absolute;border-left: 1px solid gray;box-sizing: border-box;top: 0;bottom: 0;left: 50%;z-index: 0;}#sk-container-id-2 div.sk-serial {display: flex;flex-direction: column;align-items: center;background-color: white;padding-right: 0.2em;padding-left: 0.2em;position: relative;}#sk-container-id-2 div.sk-item {position: relative;z-index: 1;}#sk-container-id-2 div.sk-parallel {display: flex;align-items: stretch;justify-content: center;background-color: white;position: relative;}#sk-container-id-2 div.sk-item::before, #sk-container-id-2 div.sk-parallel-item::before {content: \"\";position: absolute;border-left: 1px solid gray;box-sizing: border-box;top: 0;bottom: 0;left: 50%;z-index: -1;}#sk-container-id-2 div.sk-parallel-item {display: flex;flex-direction: column;z-index: 1;position: relative;background-color: white;}#sk-container-id-2 div.sk-parallel-item:first-child::after {align-self: flex-end;width: 50%;}#sk-container-id-2 div.sk-parallel-item:last-child::after {align-self: flex-start;width: 50%;}#sk-container-id-2 div.sk-parallel-item:only-child::after {width: 0;}#sk-container-id-2 div.sk-dashed-wrapped {border: 1px dashed gray;margin: 0 0.4em 0.5em 0.4em;box-sizing: border-box;padding-bottom: 0.4em;background-color: white;}#sk-container-id-2 div.sk-label label {font-family: monospace;font-weight: bold;display: inline-block;line-height: 1.2em;}#sk-container-id-2 div.sk-label-container {text-align: center;}#sk-container-id-2 div.sk-container {/* jupyter's `normalize.less` sets `[hidden] { display: none; }` but bootstrap.min.css set `[hidden] { display: none !important; }` so we also need the `!important` here to be able to override the default hidden behavior on the sphinx rendered scikit-learn.org. See: https://github.com/scikit-learn/scikit-learn/issues/21755 */display: inline-block !important;position: relative;}#sk-container-id-2 div.sk-text-repr-fallback {display: none;}</style><div id=\"sk-container-id-2\" class=\"sk-top-container\"><div class=\"sk-text-repr-fallback\"><pre>RandomForestRegressor(random_state=42)</pre><b>In a Jupyter environment, please rerun this cell to show the HTML representation or trust the notebook. <br />On GitHub, the HTML representation is unable to render, please try loading this page with nbviewer.org.</b></div><div class=\"sk-container\" hidden><div class=\"sk-item\"><div class=\"sk-estimator sk-toggleable\"><input class=\"sk-toggleable__control sk-hidden--visually\" id=\"sk-estimator-id-2\" type=\"checkbox\" checked><label for=\"sk-estimator-id-2\" class=\"sk-toggleable__label sk-toggleable__label-arrow\">RandomForestRegressor</label><div class=\"sk-toggleable__content\"><pre>RandomForestRegressor(random_state=42)</pre></div></div></div></div></div>"
      ],
      "text/plain": [
       "RandomForestRegressor(random_state=42)"
      ]
     },
     "execution_count": 16,
     "metadata": {},
     "output_type": "execute_result"
    }
   ],
   "source": [
    "y_train_valid = tmax_removed[['x', 'y']].copy()\n",
    "\n",
    "X_train_valid = tmax_removed.drop(columns=['x', 'y'])\n",
    "\n",
    "X_train, X_valid, y_train, y_valid = train_test_split(X_train_valid, y_train_valid, shuffle=True, random_state=42)\n",
    "\n",
    "X_train[\"RANDOM\"] = np.random.RandomState(42).randn(X_train.shape[0])\n",
    "X_valid[\"RANDOM\"] = np.random.RandomState(42).randn(X_valid.shape[0])\n",
    "\n",
    "reg = RandomForestRegressor(100, random_state=42)\n",
    "reg.fit(X_train, y_train)"
   ]
  },
  {
   "cell_type": "code",
   "execution_count": 17,
   "metadata": {},
   "outputs": [
    {
     "name": "stdout",
     "output_type": "stream",
     "text": [
      "5.921845989666506\n"
     ]
    }
   ],
   "source": [
    "med_without_noise = ph.mean_euclid_dist(y_valid, reg.predict(X_valid))\n",
    "print(med_without_noise)"
   ]
  },
  {
   "cell_type": "code",
   "execution_count": 18,
   "metadata": {},
   "outputs": [
    {
     "data": {
      "text/plain": [
       "[('pmax[8]', 0.35921605177697646),\n",
       " ('pmax[11]', 0.2465594760062793),\n",
       " ('pmax[10]', 0.12070284894155157),\n",
       " ('pmax[5]', 0.08556699116605541),\n",
       " ('negpmax[10]', 0.049072909340919395),\n",
       " ('pmax[13]', 0.04079390388619112),\n",
       " ('negpmax[13]', 0.020030842884711464),\n",
       " ('negpmax[3]', 0.013751275266783701),\n",
       " ('pmax[9]', 0.010646517970578815),\n",
       " ('negpmax[11]', 0.008679803448721986),\n",
       " ('pmax[4]', 0.007638124731100946),\n",
       " ('negpmax[5]', 0.006061859676149818),\n",
       " ('negpmax[8]', 0.004330903043366197),\n",
       " ('pmax[3]', 0.0038317817584008467),\n",
       " ('negpmax[1]', 0.0037639003177120044),\n",
       " ('negpmax[6]', 0.0031685990366911183),\n",
       " ('negpmax[4]', 0.002438972398862019),\n",
       " ('negpmax[14]', 0.0022674953926519912),\n",
       " ('pmax[1]', 0.002169667924622957),\n",
       " ('pmax[2]', 0.002129230669104925),\n",
       " ('pmax[6]', 0.0012433755277164382),\n",
       " ('negpmax[9]', 0.0011588195417854884),\n",
       " ('pmax[14]', 0.000942644465507889),\n",
       " ('area[5]', 0.0008582015360344895),\n",
       " ('area[10]', 0.0003274131887989458),\n",
       " ('area[3]', 0.0003251908146561986),\n",
       " ('area[13]', 0.0003190436318968694),\n",
       " ('area[11]', 0.0002832319426029159),\n",
       " ('negpmax[2]', 0.0002719805948739409),\n",
       " ('area[8]', 0.00023565362927984248),\n",
       " ('area[14]', 0.00020263890123763435),\n",
       " ('area[4]', 0.00014474366858992444),\n",
       " ('area[6]', 0.00012721709478593574),\n",
       " ('area[9]', 0.0001129798876136678),\n",
       " ('area[1]', 0.00010189352833629738),\n",
       " ('area[2]', 6.263944694811777e-05),\n",
       " ('rms[5]', 4.132448486751428e-05),\n",
       " ('rms[4]', 3.7884622910073015e-05),\n",
       " ('rms[9]', 3.6322052442993086e-05),\n",
       " ('rms[13]', 3.5699482319331696e-05),\n",
       " ('rms[8]', 3.555719164546036e-05),\n",
       " ('rms[1]', 3.555547690607609e-05),\n",
       " ('rms[14]', 3.5409578220890045e-05),\n",
       " ('RANDOM', 3.491955033790114e-05),\n",
       " ('rms[3]', 3.4377941829947975e-05),\n",
       " ('rms[6]', 3.4018239006068014e-05),\n",
       " ('rms[10]', 3.3845252712776255e-05),\n",
       " ('rms[11]', 3.367249777076544e-05),\n",
       " ('rms[2]', 3.259059093364741e-05)]"
      ]
     },
     "execution_count": 18,
     "metadata": {},
     "output_type": "execute_result"
    }
   ],
   "source": [
    "sorted(zip(X_train.columns, reg.feature_importances_), key=lambda x: x[1],reverse=True)"
   ]
  },
  {
   "cell_type": "code",
   "execution_count": 70,
   "metadata": {},
   "outputs": [],
   "source": [
    "pmax_negpmax_area = noise_removed.drop(columns=ph.get_column_names(['tmax', 'rms'], acc_idxs))"
   ]
  },
  {
   "cell_type": "code",
   "execution_count": 71,
   "metadata": {},
   "outputs": [],
   "source": [
    "y_train_valid = pmax_negpmax_area[['x', 'y']].copy()\n",
    "\n",
    "X_train_valid = pmax_negpmax_area.drop(columns=['x', 'y'])\n",
    "\n",
    "X_train, X_valid, y_train, y_valid = train_test_split(X_train_valid, y_train_valid, shuffle=True, random_state=42)"
   ]
  },
  {
   "cell_type": "code",
   "execution_count": null,
   "metadata": {},
   "outputs": [],
   "source": [
    "reg = RandomForestRegressor(100, random_state=42)\n",
    "reg.fit(X_train , y_train)"
   ]
  },
  {
   "cell_type": "code",
   "execution_count": 21,
   "metadata": {},
   "outputs": [
    {
     "name": "stdout",
     "output_type": "stream",
     "text": [
      "5.823436933201352\n"
     ]
    },
    {
     "name": "stderr",
     "output_type": "stream",
     "text": [
      "[Parallel(n_jobs=1)]: Done  49 tasks      | elapsed:    0.0s\n"
     ]
    }
   ],
   "source": [
    "med_without_noise = ph.mean_euclid_dist(y_valid, reg.predict(X_valid))\n",
    "print(med_without_noise)"
   ]
  },
  {
   "cell_type": "code",
   "execution_count": 22,
   "metadata": {},
   "outputs": [
    {
     "data": {
      "text/plain": [
       "[('pmax[8]', 0.35924600915026605),\n",
       " ('pmax[11]', 0.2466002702488734),\n",
       " ('pmax[10]', 0.12072175390935759),\n",
       " ('pmax[5]', 0.08556862340889844),\n",
       " ('negpmax[10]', 0.04911374560148825),\n",
       " ('pmax[13]', 0.04080715119863556),\n",
       " ('negpmax[13]', 0.020070860441112347),\n",
       " ('negpmax[3]', 0.01371097235492843),\n",
       " ('pmax[9]', 0.010664669212522508),\n",
       " ('negpmax[11]', 0.008715563185851824),\n",
       " ('pmax[4]', 0.007646562065743783),\n",
       " ('negpmax[5]', 0.006019270837061783),\n",
       " ('negpmax[8]', 0.004347457752937383),\n",
       " ('pmax[3]', 0.003976152875367849),\n",
       " ('negpmax[1]', 0.003778936444156386),\n",
       " ('negpmax[6]', 0.003148153649022397),\n",
       " ('negpmax[4]', 0.002455396812606812),\n",
       " ('negpmax[14]', 0.0022806004902664856),\n",
       " ('pmax[1]', 0.002186465119543101),\n",
       " ('pmax[2]', 0.0021411770849413436),\n",
       " ('pmax[6]', 0.0012307715268400914),\n",
       " ('negpmax[9]', 0.001178430798458846),\n",
       " ('pmax[14]', 0.0009179707869943025),\n",
       " ('area[5]', 0.000911085357653264),\n",
       " ('area[13]', 0.00034643630528788974),\n",
       " ('area[10]', 0.0003070754312450793),\n",
       " ('area[3]', 0.0003040501728002085),\n",
       " ('negpmax[2]', 0.0002831424897571151),\n",
       " ('area[11]', 0.0002808318745252855),\n",
       " ('area[8]', 0.00024045221585143343),\n",
       " ('area[14]', 0.00022020222469091297),\n",
       " ('area[6]', 0.00015143791520976605),\n",
       " ('area[9]', 0.00013042574568274048),\n",
       " ('area[4]', 0.00012496813547021156),\n",
       " ('area[1]', 0.0001008248642577958),\n",
       " ('area[2]', 7.210231169328894e-05)]"
      ]
     },
     "execution_count": 22,
     "metadata": {},
     "output_type": "execute_result"
    }
   ],
   "source": [
    "sorted(zip(X_train_valid.columns, reg.feature_importances_), key=lambda x: x[1],reverse=True)"
   ]
  }
 ],
 "metadata": {
  "kernelspec": {
   "display_name": "Python 3.10.7 64-bit",
   "language": "python",
   "name": "python3"
  },
  "language_info": {
   "codemirror_mode": {
    "name": "ipython",
    "version": 3
   },
   "file_extension": ".py",
   "mimetype": "text/x-python",
   "name": "python",
   "nbconvert_exporter": "python",
   "pygments_lexer": "ipython3",
   "version": "3.10.7"
  },
  "vscode": {
   "interpreter": {
    "hash": "aee8b7b246df8f9039afb4144a1f6fd8d2ca17a180786b69acc140d282b71a49"
   }
  }
 },
 "nbformat": 4,
 "nbformat_minor": 2
}

{
 "cells": [
  {
   "cell_type": "code",
   "execution_count": 1,
   "metadata": {},
   "outputs": [],
   "source": [
    "import pandas as pd\n",
    "import helpers.processing_helpers as ph\n",
    "\n",
    "from sklearn.model_selection import RandomizedSearchCV\n",
    "\n",
    "from sklearn.metrics import make_scorer\n",
    "\n",
    "from sklearn.neural_network import  MLPRegressor\n",
    "\n",
    "from sklearn.discriminant_analysis import StandardScaler\n",
    "from sklearn.pipeline import Pipeline\n"
   ]
  },
  {
   "cell_type": "code",
   "execution_count": 2,
   "metadata": {},
   "outputs": [],
   "source": [
    "df_dev = pd.read_csv(\"./dataset/development.csv\")"
   ]
  },
  {
   "cell_type": "code",
   "execution_count": 3,
   "metadata": {},
   "outputs": [],
   "source": [
    "noise_indexes = [0,7,12,15,16,17]\n",
    "acc_idxs = [1,2,3,4,5,6,8,9,10,11,13,14]\n",
    "features = [\"pmax\", \"negpmax\", 'area', 'tmax', 'rms']\n",
    "\n",
    "sensors_removed = df_dev.drop(columns=ph.get_column_names(features, noise_indexes))\n",
    "df = sensors_removed.drop(columns=ph.get_column_names(['tmax', 'rms', 'area'], acc_idxs))"
   ]
  },
  {
   "cell_type": "code",
   "execution_count": 4,
   "metadata": {},
   "outputs": [],
   "source": [
    "df = df.sample(frac=1)"
   ]
  },
  {
   "cell_type": "code",
   "execution_count": 5,
   "metadata": {},
   "outputs": [],
   "source": [
    "score = make_scorer(ph.mean_euclid_dist, greater_is_better=False)"
   ]
  },
  {
   "cell_type": "code",
   "execution_count": 6,
   "metadata": {},
   "outputs": [],
   "source": [
    "# These will be the constant parameters\n",
    "\n",
    "pipe = Pipeline([\n",
    "    ('scale', StandardScaler()),\n",
    "    ('clf', MLPRegressor(random_state=42, max_iter=200, n_iter_no_change=30, learning_rate_init=0.01))\n",
    "])"
   ]
  },
  {
   "cell_type": "code",
   "execution_count": 7,
   "metadata": {},
   "outputs": [],
   "source": [
    "y_train = df[['x', 'y']].copy()\n",
    "\n",
    "X_train = df.drop(columns=['x', 'y'])"
   ]
  },
  {
   "cell_type": "code",
   "execution_count": 8,
   "metadata": {},
   "outputs": [],
   "source": [
    "param_grid = {'clf__hidden_layer_sizes' : [(50,),\n",
    "                                            (25, 25),\n",
    "                                            (35, 15),\n",
    "                                            (20, 10, 20),\n",
    "                                            (25, 15, 10),\n",
    "                                            (20, 15, 10, 5),\n",
    "                                            (15, 10, 10, 15)],\n",
    "            'clf__activation' : ['relu', \n",
    "                              'logistic', \n",
    "                              'tanh'],\n",
    "            'clf__learning_rate_init': [0.01, 0.001],\n",
    "            'clf__learning_rate': ['constant', 'invscaling', 'adaptive'],\n",
    "            'clf__solver': ['adam', 'sgd', 'lbfgs']\n",
    "              }"
   ]
  },
  {
   "cell_type": "code",
   "execution_count": 9,
   "metadata": {},
   "outputs": [
    {
     "name": "stdout",
     "output_type": "stream",
     "text": [
      "Fitting 3 folds for each of 20 candidates, totalling 60 fits\n"
     ]
    },
    {
     "name": "stderr",
     "output_type": "stream",
     "text": [
      "c:\\Users\\Arist\\OneDrive\\Skrivebord\\DSL labs\\DSL_project2\\venv\\Lib\\site-packages\\sklearn\\neural_network\\_multilayer_perceptron.py:691: ConvergenceWarning: Stochastic Optimizer: Maximum iterations (200) reached and the optimization hasn't converged yet.\n",
      "  warnings.warn(\n"
     ]
    },
    {
     "name": "stdout",
     "output_type": "stream",
     "text": [
      "[CV] END clf__activation=relu, clf__hidden_layer_sizes=(50,), clf__learning_rate=invscaling, clf__learning_rate_init=0.01, clf__solver=adam; total time= 1.5min\n"
     ]
    },
    {
     "name": "stderr",
     "output_type": "stream",
     "text": [
      "c:\\Users\\Arist\\OneDrive\\Skrivebord\\DSL labs\\DSL_project2\\venv\\Lib\\site-packages\\sklearn\\neural_network\\_multilayer_perceptron.py:691: ConvergenceWarning: Stochastic Optimizer: Maximum iterations (200) reached and the optimization hasn't converged yet.\n",
      "  warnings.warn(\n"
     ]
    },
    {
     "name": "stdout",
     "output_type": "stream",
     "text": [
      "[CV] END clf__activation=relu, clf__hidden_layer_sizes=(50,), clf__learning_rate=invscaling, clf__learning_rate_init=0.01, clf__solver=adam; total time= 1.8min\n"
     ]
    },
    {
     "name": "stderr",
     "output_type": "stream",
     "text": [
      "c:\\Users\\Arist\\OneDrive\\Skrivebord\\DSL labs\\DSL_project2\\venv\\Lib\\site-packages\\sklearn\\neural_network\\_multilayer_perceptron.py:691: ConvergenceWarning: Stochastic Optimizer: Maximum iterations (200) reached and the optimization hasn't converged yet.\n",
      "  warnings.warn(\n"
     ]
    },
    {
     "name": "stdout",
     "output_type": "stream",
     "text": [
      "[CV] END clf__activation=relu, clf__hidden_layer_sizes=(50,), clf__learning_rate=invscaling, clf__learning_rate_init=0.01, clf__solver=adam; total time= 1.7min\n"
     ]
    },
    {
     "name": "stderr",
     "output_type": "stream",
     "text": [
      "c:\\Users\\Arist\\OneDrive\\Skrivebord\\DSL labs\\DSL_project2\\venv\\Lib\\site-packages\\sklearn\\neural_network\\_multilayer_perceptron.py:691: ConvergenceWarning: Stochastic Optimizer: Maximum iterations (200) reached and the optimization hasn't converged yet.\n",
      "  warnings.warn(\n"
     ]
    },
    {
     "name": "stdout",
     "output_type": "stream",
     "text": [
      "[CV] END clf__activation=logistic, clf__hidden_layer_sizes=(15, 10, 10, 15), clf__learning_rate=adaptive, clf__learning_rate_init=0.01, clf__solver=sgd; total time= 2.9min\n"
     ]
    },
    {
     "name": "stderr",
     "output_type": "stream",
     "text": [
      "c:\\Users\\Arist\\OneDrive\\Skrivebord\\DSL labs\\DSL_project2\\venv\\Lib\\site-packages\\sklearn\\neural_network\\_multilayer_perceptron.py:691: ConvergenceWarning: Stochastic Optimizer: Maximum iterations (200) reached and the optimization hasn't converged yet.\n",
      "  warnings.warn(\n"
     ]
    },
    {
     "name": "stdout",
     "output_type": "stream",
     "text": [
      "[CV] END clf__activation=logistic, clf__hidden_layer_sizes=(15, 10, 10, 15), clf__learning_rate=adaptive, clf__learning_rate_init=0.01, clf__solver=sgd; total time= 3.0min\n"
     ]
    },
    {
     "name": "stderr",
     "output_type": "stream",
     "text": [
      "c:\\Users\\Arist\\OneDrive\\Skrivebord\\DSL labs\\DSL_project2\\venv\\Lib\\site-packages\\sklearn\\neural_network\\_multilayer_perceptron.py:691: ConvergenceWarning: Stochastic Optimizer: Maximum iterations (200) reached and the optimization hasn't converged yet.\n",
      "  warnings.warn(\n"
     ]
    },
    {
     "name": "stdout",
     "output_type": "stream",
     "text": [
      "[CV] END clf__activation=logistic, clf__hidden_layer_sizes=(15, 10, 10, 15), clf__learning_rate=adaptive, clf__learning_rate_init=0.01, clf__solver=sgd; total time= 2.9min\n"
     ]
    },
    {
     "name": "stderr",
     "output_type": "stream",
     "text": [
      "c:\\Users\\Arist\\OneDrive\\Skrivebord\\DSL labs\\DSL_project2\\venv\\Lib\\site-packages\\sklearn\\neural_network\\_multilayer_perceptron.py:691: ConvergenceWarning: Stochastic Optimizer: Maximum iterations (200) reached and the optimization hasn't converged yet.\n",
      "  warnings.warn(\n"
     ]
    },
    {
     "name": "stdout",
     "output_type": "stream",
     "text": [
      "[CV] END clf__activation=relu, clf__hidden_layer_sizes=(25, 15, 10), clf__learning_rate=constant, clf__learning_rate_init=0.001, clf__solver=sgd; total time= 2.1min\n",
      "[CV] END clf__activation=relu, clf__hidden_layer_sizes=(25, 15, 10), clf__learning_rate=constant, clf__learning_rate_init=0.001, clf__solver=sgd; total time=  19.8s\n",
      "[CV] END clf__activation=relu, clf__hidden_layer_sizes=(25, 15, 10), clf__learning_rate=constant, clf__learning_rate_init=0.001, clf__solver=sgd; total time=  20.2s\n"
     ]
    },
    {
     "name": "stderr",
     "output_type": "stream",
     "text": [
      "c:\\Users\\Arist\\OneDrive\\Skrivebord\\DSL labs\\DSL_project2\\venv\\Lib\\site-packages\\sklearn\\neural_network\\_multilayer_perceptron.py:546: ConvergenceWarning: lbfgs failed to converge (status=1):\n",
      "STOP: TOTAL NO. of ITERATIONS REACHED LIMIT.\n",
      "\n",
      "Increase the number of iterations (max_iter) or scale the data as shown in:\n",
      "    https://scikit-learn.org/stable/modules/preprocessing.html\n",
      "  self.n_iter_ = _check_optimize_result(\"lbfgs\", opt_res, self.max_iter)\n"
     ]
    },
    {
     "name": "stdout",
     "output_type": "stream",
     "text": [
      "[CV] END clf__activation=logistic, clf__hidden_layer_sizes=(25, 15, 10), clf__learning_rate=adaptive, clf__learning_rate_init=0.01, clf__solver=lbfgs; total time= 1.9min\n"
     ]
    },
    {
     "name": "stderr",
     "output_type": "stream",
     "text": [
      "c:\\Users\\Arist\\OneDrive\\Skrivebord\\DSL labs\\DSL_project2\\venv\\Lib\\site-packages\\sklearn\\neural_network\\_multilayer_perceptron.py:546: ConvergenceWarning: lbfgs failed to converge (status=1):\n",
      "STOP: TOTAL NO. of ITERATIONS REACHED LIMIT.\n",
      "\n",
      "Increase the number of iterations (max_iter) or scale the data as shown in:\n",
      "    https://scikit-learn.org/stable/modules/preprocessing.html\n",
      "  self.n_iter_ = _check_optimize_result(\"lbfgs\", opt_res, self.max_iter)\n"
     ]
    },
    {
     "name": "stdout",
     "output_type": "stream",
     "text": [
      "[CV] END clf__activation=logistic, clf__hidden_layer_sizes=(25, 15, 10), clf__learning_rate=adaptive, clf__learning_rate_init=0.01, clf__solver=lbfgs; total time= 2.2min\n"
     ]
    },
    {
     "name": "stderr",
     "output_type": "stream",
     "text": [
      "c:\\Users\\Arist\\OneDrive\\Skrivebord\\DSL labs\\DSL_project2\\venv\\Lib\\site-packages\\sklearn\\neural_network\\_multilayer_perceptron.py:546: ConvergenceWarning: lbfgs failed to converge (status=1):\n",
      "STOP: TOTAL NO. of ITERATIONS REACHED LIMIT.\n",
      "\n",
      "Increase the number of iterations (max_iter) or scale the data as shown in:\n",
      "    https://scikit-learn.org/stable/modules/preprocessing.html\n",
      "  self.n_iter_ = _check_optimize_result(\"lbfgs\", opt_res, self.max_iter)\n"
     ]
    },
    {
     "name": "stdout",
     "output_type": "stream",
     "text": [
      "[CV] END clf__activation=logistic, clf__hidden_layer_sizes=(25, 15, 10), clf__learning_rate=adaptive, clf__learning_rate_init=0.01, clf__solver=lbfgs; total time= 1.9min\n",
      "[CV] END clf__activation=logistic, clf__hidden_layer_sizes=(25, 15, 10), clf__learning_rate=constant, clf__learning_rate_init=0.01, clf__solver=sgd; total time=  55.7s\n",
      "[CV] END clf__activation=logistic, clf__hidden_layer_sizes=(25, 15, 10), clf__learning_rate=constant, clf__learning_rate_init=0.01, clf__solver=sgd; total time=  54.3s\n",
      "[CV] END clf__activation=logistic, clf__hidden_layer_sizes=(25, 15, 10), clf__learning_rate=constant, clf__learning_rate_init=0.01, clf__solver=sgd; total time=  34.0s\n"
     ]
    },
    {
     "name": "stderr",
     "output_type": "stream",
     "text": [
      "c:\\Users\\Arist\\OneDrive\\Skrivebord\\DSL labs\\DSL_project2\\venv\\Lib\\site-packages\\sklearn\\neural_network\\_multilayer_perceptron.py:691: ConvergenceWarning: Stochastic Optimizer: Maximum iterations (200) reached and the optimization hasn't converged yet.\n",
      "  warnings.warn(\n"
     ]
    },
    {
     "name": "stdout",
     "output_type": "stream",
     "text": [
      "[CV] END clf__activation=tanh, clf__hidden_layer_sizes=(20, 15, 10, 5), clf__learning_rate=adaptive, clf__learning_rate_init=0.01, clf__solver=sgd; total time= 2.9min\n"
     ]
    },
    {
     "name": "stderr",
     "output_type": "stream",
     "text": [
      "c:\\Users\\Arist\\OneDrive\\Skrivebord\\DSL labs\\DSL_project2\\venv\\Lib\\site-packages\\sklearn\\neural_network\\_multilayer_perceptron.py:691: ConvergenceWarning: Stochastic Optimizer: Maximum iterations (200) reached and the optimization hasn't converged yet.\n",
      "  warnings.warn(\n"
     ]
    },
    {
     "name": "stdout",
     "output_type": "stream",
     "text": [
      "[CV] END clf__activation=tanh, clf__hidden_layer_sizes=(20, 15, 10, 5), clf__learning_rate=adaptive, clf__learning_rate_init=0.01, clf__solver=sgd; total time= 3.0min\n"
     ]
    },
    {
     "name": "stderr",
     "output_type": "stream",
     "text": [
      "c:\\Users\\Arist\\OneDrive\\Skrivebord\\DSL labs\\DSL_project2\\venv\\Lib\\site-packages\\sklearn\\neural_network\\_multilayer_perceptron.py:691: ConvergenceWarning: Stochastic Optimizer: Maximum iterations (200) reached and the optimization hasn't converged yet.\n",
      "  warnings.warn(\n"
     ]
    },
    {
     "name": "stdout",
     "output_type": "stream",
     "text": [
      "[CV] END clf__activation=tanh, clf__hidden_layer_sizes=(20, 15, 10, 5), clf__learning_rate=adaptive, clf__learning_rate_init=0.01, clf__solver=sgd; total time= 2.9min\n",
      "[CV] END clf__activation=tanh, clf__hidden_layer_sizes=(20, 15, 10, 5), clf__learning_rate=adaptive, clf__learning_rate_init=0.01, clf__solver=adam; total time= 3.2min\n",
      "[CV] END clf__activation=tanh, clf__hidden_layer_sizes=(20, 15, 10, 5), clf__learning_rate=adaptive, clf__learning_rate_init=0.01, clf__solver=adam; total time= 1.8min\n",
      "[CV] END clf__activation=tanh, clf__hidden_layer_sizes=(20, 15, 10, 5), clf__learning_rate=adaptive, clf__learning_rate_init=0.01, clf__solver=adam; total time= 2.5min\n"
     ]
    },
    {
     "name": "stderr",
     "output_type": "stream",
     "text": [
      "c:\\Users\\Arist\\OneDrive\\Skrivebord\\DSL labs\\DSL_project2\\venv\\Lib\\site-packages\\sklearn\\neural_network\\_multilayer_perceptron.py:546: ConvergenceWarning: lbfgs failed to converge (status=1):\n",
      "STOP: TOTAL NO. of ITERATIONS REACHED LIMIT.\n",
      "\n",
      "Increase the number of iterations (max_iter) or scale the data as shown in:\n",
      "    https://scikit-learn.org/stable/modules/preprocessing.html\n",
      "  self.n_iter_ = _check_optimize_result(\"lbfgs\", opt_res, self.max_iter)\n"
     ]
    },
    {
     "name": "stdout",
     "output_type": "stream",
     "text": [
      "[CV] END clf__activation=logistic, clf__hidden_layer_sizes=(25, 25), clf__learning_rate=invscaling, clf__learning_rate_init=0.01, clf__solver=lbfgs; total time= 1.8min\n"
     ]
    },
    {
     "name": "stderr",
     "output_type": "stream",
     "text": [
      "c:\\Users\\Arist\\OneDrive\\Skrivebord\\DSL labs\\DSL_project2\\venv\\Lib\\site-packages\\sklearn\\neural_network\\_multilayer_perceptron.py:546: ConvergenceWarning: lbfgs failed to converge (status=1):\n",
      "STOP: TOTAL NO. of ITERATIONS REACHED LIMIT.\n",
      "\n",
      "Increase the number of iterations (max_iter) or scale the data as shown in:\n",
      "    https://scikit-learn.org/stable/modules/preprocessing.html\n",
      "  self.n_iter_ = _check_optimize_result(\"lbfgs\", opt_res, self.max_iter)\n"
     ]
    },
    {
     "name": "stdout",
     "output_type": "stream",
     "text": [
      "[CV] END clf__activation=logistic, clf__hidden_layer_sizes=(25, 25), clf__learning_rate=invscaling, clf__learning_rate_init=0.01, clf__solver=lbfgs; total time= 1.6min\n"
     ]
    },
    {
     "name": "stderr",
     "output_type": "stream",
     "text": [
      "c:\\Users\\Arist\\OneDrive\\Skrivebord\\DSL labs\\DSL_project2\\venv\\Lib\\site-packages\\sklearn\\neural_network\\_multilayer_perceptron.py:546: ConvergenceWarning: lbfgs failed to converge (status=1):\n",
      "STOP: TOTAL NO. of ITERATIONS REACHED LIMIT.\n",
      "\n",
      "Increase the number of iterations (max_iter) or scale the data as shown in:\n",
      "    https://scikit-learn.org/stable/modules/preprocessing.html\n",
      "  self.n_iter_ = _check_optimize_result(\"lbfgs\", opt_res, self.max_iter)\n"
     ]
    },
    {
     "name": "stdout",
     "output_type": "stream",
     "text": [
      "[CV] END clf__activation=logistic, clf__hidden_layer_sizes=(25, 25), clf__learning_rate=invscaling, clf__learning_rate_init=0.01, clf__solver=lbfgs; total time= 1.6min\n"
     ]
    },
    {
     "name": "stderr",
     "output_type": "stream",
     "text": [
      "c:\\Users\\Arist\\OneDrive\\Skrivebord\\DSL labs\\DSL_project2\\venv\\Lib\\site-packages\\sklearn\\neural_network\\_multilayer_perceptron.py:546: ConvergenceWarning: lbfgs failed to converge (status=1):\n",
      "STOP: TOTAL NO. of ITERATIONS REACHED LIMIT.\n",
      "\n",
      "Increase the number of iterations (max_iter) or scale the data as shown in:\n",
      "    https://scikit-learn.org/stable/modules/preprocessing.html\n",
      "  self.n_iter_ = _check_optimize_result(\"lbfgs\", opt_res, self.max_iter)\n"
     ]
    },
    {
     "name": "stdout",
     "output_type": "stream",
     "text": [
      "[CV] END clf__activation=tanh, clf__hidden_layer_sizes=(25, 15, 10), clf__learning_rate=adaptive, clf__learning_rate_init=0.001, clf__solver=lbfgs; total time= 2.2min\n"
     ]
    },
    {
     "name": "stderr",
     "output_type": "stream",
     "text": [
      "c:\\Users\\Arist\\OneDrive\\Skrivebord\\DSL labs\\DSL_project2\\venv\\Lib\\site-packages\\sklearn\\neural_network\\_multilayer_perceptron.py:546: ConvergenceWarning: lbfgs failed to converge (status=1):\n",
      "STOP: TOTAL NO. of ITERATIONS REACHED LIMIT.\n",
      "\n",
      "Increase the number of iterations (max_iter) or scale the data as shown in:\n",
      "    https://scikit-learn.org/stable/modules/preprocessing.html\n",
      "  self.n_iter_ = _check_optimize_result(\"lbfgs\", opt_res, self.max_iter)\n"
     ]
    },
    {
     "name": "stdout",
     "output_type": "stream",
     "text": [
      "[CV] END clf__activation=tanh, clf__hidden_layer_sizes=(25, 15, 10), clf__learning_rate=adaptive, clf__learning_rate_init=0.001, clf__solver=lbfgs; total time= 2.4min\n"
     ]
    },
    {
     "name": "stderr",
     "output_type": "stream",
     "text": [
      "c:\\Users\\Arist\\OneDrive\\Skrivebord\\DSL labs\\DSL_project2\\venv\\Lib\\site-packages\\sklearn\\neural_network\\_multilayer_perceptron.py:546: ConvergenceWarning: lbfgs failed to converge (status=1):\n",
      "STOP: TOTAL NO. of ITERATIONS REACHED LIMIT.\n",
      "\n",
      "Increase the number of iterations (max_iter) or scale the data as shown in:\n",
      "    https://scikit-learn.org/stable/modules/preprocessing.html\n",
      "  self.n_iter_ = _check_optimize_result(\"lbfgs\", opt_res, self.max_iter)\n"
     ]
    },
    {
     "name": "stdout",
     "output_type": "stream",
     "text": [
      "[CV] END clf__activation=tanh, clf__hidden_layer_sizes=(25, 15, 10), clf__learning_rate=adaptive, clf__learning_rate_init=0.001, clf__solver=lbfgs; total time= 2.1min\n",
      "[CV] END clf__activation=tanh, clf__hidden_layer_sizes=(25, 15, 10), clf__learning_rate=constant, clf__learning_rate_init=0.01, clf__solver=sgd; total time=  30.1s\n",
      "[CV] END clf__activation=tanh, clf__hidden_layer_sizes=(25, 15, 10), clf__learning_rate=constant, clf__learning_rate_init=0.01, clf__solver=sgd; total time=  24.6s\n",
      "[CV] END clf__activation=tanh, clf__hidden_layer_sizes=(25, 15, 10), clf__learning_rate=constant, clf__learning_rate_init=0.01, clf__solver=sgd; total time=  23.7s\n",
      "[CV] END clf__activation=tanh, clf__hidden_layer_sizes=(20, 15, 10, 5), clf__learning_rate=constant, clf__learning_rate_init=0.01, clf__solver=adam; total time= 2.9min\n",
      "[CV] END clf__activation=tanh, clf__hidden_layer_sizes=(20, 15, 10, 5), clf__learning_rate=constant, clf__learning_rate_init=0.01, clf__solver=adam; total time= 1.5min\n",
      "[CV] END clf__activation=tanh, clf__hidden_layer_sizes=(20, 15, 10, 5), clf__learning_rate=constant, clf__learning_rate_init=0.01, clf__solver=adam; total time= 2.0min\n",
      "[CV] END clf__activation=relu, clf__hidden_layer_sizes=(25, 15, 10), clf__learning_rate=invscaling, clf__learning_rate_init=0.01, clf__solver=sgd; total time=  18.1s\n",
      "[CV] END clf__activation=relu, clf__hidden_layer_sizes=(25, 15, 10), clf__learning_rate=invscaling, clf__learning_rate_init=0.01, clf__solver=sgd; total time=  18.3s\n",
      "[CV] END clf__activation=relu, clf__hidden_layer_sizes=(25, 15, 10), clf__learning_rate=invscaling, clf__learning_rate_init=0.01, clf__solver=sgd; total time=  18.9s\n"
     ]
    },
    {
     "name": "stderr",
     "output_type": "stream",
     "text": [
      "c:\\Users\\Arist\\OneDrive\\Skrivebord\\DSL labs\\DSL_project2\\venv\\Lib\\site-packages\\sklearn\\neural_network\\_multilayer_perceptron.py:691: ConvergenceWarning: Stochastic Optimizer: Maximum iterations (200) reached and the optimization hasn't converged yet.\n",
      "  warnings.warn(\n"
     ]
    },
    {
     "name": "stdout",
     "output_type": "stream",
     "text": [
      "[CV] END clf__activation=relu, clf__hidden_layer_sizes=(15, 10, 10, 15), clf__learning_rate=adaptive, clf__learning_rate_init=0.01, clf__solver=sgd; total time= 2.1min\n"
     ]
    },
    {
     "name": "stderr",
     "output_type": "stream",
     "text": [
      "c:\\Users\\Arist\\OneDrive\\Skrivebord\\DSL labs\\DSL_project2\\venv\\Lib\\site-packages\\sklearn\\neural_network\\_multilayer_perceptron.py:691: ConvergenceWarning: Stochastic Optimizer: Maximum iterations (200) reached and the optimization hasn't converged yet.\n",
      "  warnings.warn(\n"
     ]
    },
    {
     "name": "stdout",
     "output_type": "stream",
     "text": [
      "[CV] END clf__activation=relu, clf__hidden_layer_sizes=(15, 10, 10, 15), clf__learning_rate=adaptive, clf__learning_rate_init=0.01, clf__solver=sgd; total time= 2.2min\n"
     ]
    },
    {
     "name": "stderr",
     "output_type": "stream",
     "text": [
      "c:\\Users\\Arist\\OneDrive\\Skrivebord\\DSL labs\\DSL_project2\\venv\\Lib\\site-packages\\sklearn\\neural_network\\_multilayer_perceptron.py:691: ConvergenceWarning: Stochastic Optimizer: Maximum iterations (200) reached and the optimization hasn't converged yet.\n",
      "  warnings.warn(\n"
     ]
    },
    {
     "name": "stdout",
     "output_type": "stream",
     "text": [
      "[CV] END clf__activation=relu, clf__hidden_layer_sizes=(15, 10, 10, 15), clf__learning_rate=adaptive, clf__learning_rate_init=0.01, clf__solver=sgd; total time= 2.1min\n"
     ]
    },
    {
     "name": "stderr",
     "output_type": "stream",
     "text": [
      "c:\\Users\\Arist\\OneDrive\\Skrivebord\\DSL labs\\DSL_project2\\venv\\Lib\\site-packages\\sklearn\\neural_network\\_multilayer_perceptron.py:546: ConvergenceWarning: lbfgs failed to converge (status=1):\n",
      "STOP: TOTAL NO. of ITERATIONS REACHED LIMIT.\n",
      "\n",
      "Increase the number of iterations (max_iter) or scale the data as shown in:\n",
      "    https://scikit-learn.org/stable/modules/preprocessing.html\n",
      "  self.n_iter_ = _check_optimize_result(\"lbfgs\", opt_res, self.max_iter)\n"
     ]
    },
    {
     "name": "stdout",
     "output_type": "stream",
     "text": [
      "[CV] END clf__activation=relu, clf__hidden_layer_sizes=(25, 25), clf__learning_rate=invscaling, clf__learning_rate_init=0.01, clf__solver=lbfgs; total time=  51.3s\n"
     ]
    },
    {
     "name": "stderr",
     "output_type": "stream",
     "text": [
      "c:\\Users\\Arist\\OneDrive\\Skrivebord\\DSL labs\\DSL_project2\\venv\\Lib\\site-packages\\sklearn\\neural_network\\_multilayer_perceptron.py:546: ConvergenceWarning: lbfgs failed to converge (status=1):\n",
      "STOP: TOTAL NO. of ITERATIONS REACHED LIMIT.\n",
      "\n",
      "Increase the number of iterations (max_iter) or scale the data as shown in:\n",
      "    https://scikit-learn.org/stable/modules/preprocessing.html\n",
      "  self.n_iter_ = _check_optimize_result(\"lbfgs\", opt_res, self.max_iter)\n"
     ]
    },
    {
     "name": "stdout",
     "output_type": "stream",
     "text": [
      "[CV] END clf__activation=relu, clf__hidden_layer_sizes=(25, 25), clf__learning_rate=invscaling, clf__learning_rate_init=0.01, clf__solver=lbfgs; total time=  50.4s\n"
     ]
    },
    {
     "name": "stderr",
     "output_type": "stream",
     "text": [
      "c:\\Users\\Arist\\OneDrive\\Skrivebord\\DSL labs\\DSL_project2\\venv\\Lib\\site-packages\\sklearn\\neural_network\\_multilayer_perceptron.py:546: ConvergenceWarning: lbfgs failed to converge (status=1):\n",
      "STOP: TOTAL NO. of ITERATIONS REACHED LIMIT.\n",
      "\n",
      "Increase the number of iterations (max_iter) or scale the data as shown in:\n",
      "    https://scikit-learn.org/stable/modules/preprocessing.html\n",
      "  self.n_iter_ = _check_optimize_result(\"lbfgs\", opt_res, self.max_iter)\n"
     ]
    },
    {
     "name": "stdout",
     "output_type": "stream",
     "text": [
      "[CV] END clf__activation=relu, clf__hidden_layer_sizes=(25, 25), clf__learning_rate=invscaling, clf__learning_rate_init=0.01, clf__solver=lbfgs; total time=  50.6s\n"
     ]
    },
    {
     "name": "stderr",
     "output_type": "stream",
     "text": [
      "c:\\Users\\Arist\\OneDrive\\Skrivebord\\DSL labs\\DSL_project2\\venv\\Lib\\site-packages\\sklearn\\neural_network\\_multilayer_perceptron.py:691: ConvergenceWarning: Stochastic Optimizer: Maximum iterations (200) reached and the optimization hasn't converged yet.\n",
      "  warnings.warn(\n"
     ]
    },
    {
     "name": "stdout",
     "output_type": "stream",
     "text": [
      "[CV] END clf__activation=logistic, clf__hidden_layer_sizes=(15, 10, 10, 15), clf__learning_rate=invscaling, clf__learning_rate_init=0.001, clf__solver=adam; total time= 3.3min\n"
     ]
    },
    {
     "name": "stderr",
     "output_type": "stream",
     "text": [
      "c:\\Users\\Arist\\OneDrive\\Skrivebord\\DSL labs\\DSL_project2\\venv\\Lib\\site-packages\\sklearn\\neural_network\\_multilayer_perceptron.py:691: ConvergenceWarning: Stochastic Optimizer: Maximum iterations (200) reached and the optimization hasn't converged yet.\n",
      "  warnings.warn(\n"
     ]
    },
    {
     "name": "stdout",
     "output_type": "stream",
     "text": [
      "[CV] END clf__activation=logistic, clf__hidden_layer_sizes=(15, 10, 10, 15), clf__learning_rate=invscaling, clf__learning_rate_init=0.001, clf__solver=adam; total time= 3.6min\n"
     ]
    },
    {
     "name": "stderr",
     "output_type": "stream",
     "text": [
      "c:\\Users\\Arist\\OneDrive\\Skrivebord\\DSL labs\\DSL_project2\\venv\\Lib\\site-packages\\sklearn\\neural_network\\_multilayer_perceptron.py:691: ConvergenceWarning: Stochastic Optimizer: Maximum iterations (200) reached and the optimization hasn't converged yet.\n",
      "  warnings.warn(\n"
     ]
    },
    {
     "name": "stdout",
     "output_type": "stream",
     "text": [
      "[CV] END clf__activation=logistic, clf__hidden_layer_sizes=(15, 10, 10, 15), clf__learning_rate=invscaling, clf__learning_rate_init=0.001, clf__solver=adam; total time= 4.2min\n"
     ]
    },
    {
     "name": "stderr",
     "output_type": "stream",
     "text": [
      "c:\\Users\\Arist\\OneDrive\\Skrivebord\\DSL labs\\DSL_project2\\venv\\Lib\\site-packages\\sklearn\\neural_network\\_multilayer_perceptron.py:546: ConvergenceWarning: lbfgs failed to converge (status=1):\n",
      "STOP: TOTAL NO. of ITERATIONS REACHED LIMIT.\n",
      "\n",
      "Increase the number of iterations (max_iter) or scale the data as shown in:\n",
      "    https://scikit-learn.org/stable/modules/preprocessing.html\n",
      "  self.n_iter_ = _check_optimize_result(\"lbfgs\", opt_res, self.max_iter)\n"
     ]
    },
    {
     "name": "stdout",
     "output_type": "stream",
     "text": [
      "[CV] END clf__activation=logistic, clf__hidden_layer_sizes=(20, 15, 10, 5), clf__learning_rate=invscaling, clf__learning_rate_init=0.001, clf__solver=lbfgs; total time= 2.7min\n"
     ]
    },
    {
     "name": "stderr",
     "output_type": "stream",
     "text": [
      "c:\\Users\\Arist\\OneDrive\\Skrivebord\\DSL labs\\DSL_project2\\venv\\Lib\\site-packages\\sklearn\\neural_network\\_multilayer_perceptron.py:546: ConvergenceWarning: lbfgs failed to converge (status=1):\n",
      "STOP: TOTAL NO. of ITERATIONS REACHED LIMIT.\n",
      "\n",
      "Increase the number of iterations (max_iter) or scale the data as shown in:\n",
      "    https://scikit-learn.org/stable/modules/preprocessing.html\n",
      "  self.n_iter_ = _check_optimize_result(\"lbfgs\", opt_res, self.max_iter)\n"
     ]
    },
    {
     "name": "stdout",
     "output_type": "stream",
     "text": [
      "[CV] END clf__activation=logistic, clf__hidden_layer_sizes=(20, 15, 10, 5), clf__learning_rate=invscaling, clf__learning_rate_init=0.001, clf__solver=lbfgs; total time= 2.8min\n"
     ]
    },
    {
     "name": "stderr",
     "output_type": "stream",
     "text": [
      "c:\\Users\\Arist\\OneDrive\\Skrivebord\\DSL labs\\DSL_project2\\venv\\Lib\\site-packages\\sklearn\\neural_network\\_multilayer_perceptron.py:546: ConvergenceWarning: lbfgs failed to converge (status=1):\n",
      "STOP: TOTAL NO. of ITERATIONS REACHED LIMIT.\n",
      "\n",
      "Increase the number of iterations (max_iter) or scale the data as shown in:\n",
      "    https://scikit-learn.org/stable/modules/preprocessing.html\n",
      "  self.n_iter_ = _check_optimize_result(\"lbfgs\", opt_res, self.max_iter)\n"
     ]
    },
    {
     "name": "stdout",
     "output_type": "stream",
     "text": [
      "[CV] END clf__activation=logistic, clf__hidden_layer_sizes=(20, 15, 10, 5), clf__learning_rate=invscaling, clf__learning_rate_init=0.001, clf__solver=lbfgs; total time= 2.8min\n"
     ]
    },
    {
     "name": "stderr",
     "output_type": "stream",
     "text": [
      "c:\\Users\\Arist\\OneDrive\\Skrivebord\\DSL labs\\DSL_project2\\venv\\Lib\\site-packages\\sklearn\\neural_network\\_multilayer_perceptron.py:691: ConvergenceWarning: Stochastic Optimizer: Maximum iterations (200) reached and the optimization hasn't converged yet.\n",
      "  warnings.warn(\n"
     ]
    },
    {
     "name": "stdout",
     "output_type": "stream",
     "text": [
      "[CV] END clf__activation=relu, clf__hidden_layer_sizes=(25, 25), clf__learning_rate=invscaling, clf__learning_rate_init=0.001, clf__solver=adam; total time= 2.8min\n"
     ]
    },
    {
     "name": "stderr",
     "output_type": "stream",
     "text": [
      "c:\\Users\\Arist\\OneDrive\\Skrivebord\\DSL labs\\DSL_project2\\venv\\Lib\\site-packages\\sklearn\\neural_network\\_multilayer_perceptron.py:691: ConvergenceWarning: Stochastic Optimizer: Maximum iterations (200) reached and the optimization hasn't converged yet.\n",
      "  warnings.warn(\n"
     ]
    },
    {
     "name": "stdout",
     "output_type": "stream",
     "text": [
      "[CV] END clf__activation=relu, clf__hidden_layer_sizes=(25, 25), clf__learning_rate=invscaling, clf__learning_rate_init=0.001, clf__solver=adam; total time= 2.7min\n"
     ]
    },
    {
     "name": "stderr",
     "output_type": "stream",
     "text": [
      "c:\\Users\\Arist\\OneDrive\\Skrivebord\\DSL labs\\DSL_project2\\venv\\Lib\\site-packages\\sklearn\\neural_network\\_multilayer_perceptron.py:691: ConvergenceWarning: Stochastic Optimizer: Maximum iterations (200) reached and the optimization hasn't converged yet.\n",
      "  warnings.warn(\n"
     ]
    },
    {
     "name": "stdout",
     "output_type": "stream",
     "text": [
      "[CV] END clf__activation=relu, clf__hidden_layer_sizes=(25, 25), clf__learning_rate=invscaling, clf__learning_rate_init=0.001, clf__solver=adam; total time= 2.9min\n",
      "[CV] END clf__activation=logistic, clf__hidden_layer_sizes=(25, 25), clf__learning_rate=constant, clf__learning_rate_init=0.01, clf__solver=sgd; total time=  57.6s\n",
      "[CV] END clf__activation=logistic, clf__hidden_layer_sizes=(25, 25), clf__learning_rate=constant, clf__learning_rate_init=0.01, clf__solver=sgd; total time= 1.4min\n",
      "[CV] END clf__activation=logistic, clf__hidden_layer_sizes=(25, 25), clf__learning_rate=constant, clf__learning_rate_init=0.01, clf__solver=sgd; total time= 1.3min\n",
      "[CV] END clf__activation=relu, clf__hidden_layer_sizes=(25, 25), clf__learning_rate=invscaling, clf__learning_rate_init=0.001, clf__solver=sgd; total time=  23.3s\n",
      "[CV] END clf__activation=relu, clf__hidden_layer_sizes=(25, 25), clf__learning_rate=invscaling, clf__learning_rate_init=0.001, clf__solver=sgd; total time=  23.2s\n"
     ]
    },
    {
     "name": "stderr",
     "output_type": "stream",
     "text": [
      "c:\\Users\\Arist\\OneDrive\\Skrivebord\\DSL labs\\DSL_project2\\venv\\Lib\\site-packages\\sklearn\\neural_network\\_base.py:173: RuntimeWarning: overflow encountered in square\n",
      "  return ((y_true - y_pred) ** 2).mean() / 2\n",
      "c:\\Users\\Arist\\OneDrive\\Skrivebord\\DSL labs\\DSL_project2\\venv\\Lib\\site-packages\\sklearn\\utils\\extmath.py:189: RuntimeWarning: overflow encountered in matmul\n",
      "  ret = a @ b\n",
      "c:\\Users\\Arist\\OneDrive\\Skrivebord\\DSL labs\\DSL_project2\\venv\\Lib\\site-packages\\sklearn\\utils\\extmath.py:189: RuntimeWarning: invalid value encountered in matmul\n",
      "  ret = a @ b\n",
      "c:\\Users\\Arist\\OneDrive\\Skrivebord\\DSL labs\\DSL_project2\\venv\\Lib\\site-packages\\sklearn\\neural_network\\_multilayer_perceptron.py:691: ConvergenceWarning: Stochastic Optimizer: Maximum iterations (200) reached and the optimization hasn't converged yet.\n",
      "  warnings.warn(\n"
     ]
    },
    {
     "name": "stdout",
     "output_type": "stream",
     "text": [
      "[CV] END clf__activation=relu, clf__hidden_layer_sizes=(25, 25), clf__learning_rate=invscaling, clf__learning_rate_init=0.001, clf__solver=sgd; total time= 2.2min\n",
      "[CV] END clf__activation=tanh, clf__hidden_layer_sizes=(25, 25), clf__learning_rate=constant, clf__learning_rate_init=0.01, clf__solver=adam; total time= 2.8min\n",
      "[CV] END clf__activation=tanh, clf__hidden_layer_sizes=(25, 25), clf__learning_rate=constant, clf__learning_rate_init=0.01, clf__solver=adam; total time= 2.6min\n",
      "[CV] END clf__activation=tanh, clf__hidden_layer_sizes=(25, 25), clf__learning_rate=constant, clf__learning_rate_init=0.01, clf__solver=adam; total time= 1.9min\n"
     ]
    },
    {
     "name": "stderr",
     "output_type": "stream",
     "text": [
      "c:\\Users\\Arist\\OneDrive\\Skrivebord\\DSL labs\\DSL_project2\\venv\\Lib\\site-packages\\sklearn\\model_selection\\_validation.py:542: FitFailedWarning: \n",
      "1 fits failed out of a total of 60.\n",
      "The score on these train-test partitions for these parameters will be set to nan.\n",
      "If these failures are not expected, you can try to debug them by setting error_score='raise'.\n",
      "\n",
      "Below are more details about the failures:\n",
      "--------------------------------------------------------------------------------\n",
      "1 fits failed with the following error:\n",
      "Traceback (most recent call last):\n",
      "  File \"c:\\Users\\Arist\\OneDrive\\Skrivebord\\DSL labs\\DSL_project2\\venv\\Lib\\site-packages\\sklearn\\model_selection\\_validation.py\", line 890, in _fit_and_score\n",
      "    estimator.fit(X_train, y_train, **fit_params)\n",
      "  File \"c:\\Users\\Arist\\OneDrive\\Skrivebord\\DSL labs\\DSL_project2\\venv\\Lib\\site-packages\\sklearn\\base.py\", line 1351, in wrapper\n",
      "    return fit_method(estimator, *args, **kwargs)\n",
      "           ^^^^^^^^^^^^^^^^^^^^^^^^^^^^^^^^^^^^^^\n",
      "  File \"c:\\Users\\Arist\\OneDrive\\Skrivebord\\DSL labs\\DSL_project2\\venv\\Lib\\site-packages\\sklearn\\pipeline.py\", line 475, in fit\n",
      "    self._final_estimator.fit(Xt, y, **last_step_params[\"fit\"])\n",
      "  File \"c:\\Users\\Arist\\OneDrive\\Skrivebord\\DSL labs\\DSL_project2\\venv\\Lib\\site-packages\\sklearn\\base.py\", line 1351, in wrapper\n",
      "    return fit_method(estimator, *args, **kwargs)\n",
      "           ^^^^^^^^^^^^^^^^^^^^^^^^^^^^^^^^^^^^^^\n",
      "  File \"c:\\Users\\Arist\\OneDrive\\Skrivebord\\DSL labs\\DSL_project2\\venv\\Lib\\site-packages\\sklearn\\neural_network\\_multilayer_perceptron.py\", line 752, in fit\n",
      "    return self._fit(X, y, incremental=False)\n",
      "           ^^^^^^^^^^^^^^^^^^^^^^^^^^^^^^^^^^\n",
      "  File \"c:\\Users\\Arist\\OneDrive\\Skrivebord\\DSL labs\\DSL_project2\\venv\\Lib\\site-packages\\sklearn\\neural_network\\_multilayer_perceptron.py\", line 496, in _fit\n",
      "    raise ValueError(\n",
      "ValueError: Solver produced non-finite parameter weights. The input data may contain large values and need to be preprocessed.\n",
      "\n",
      "  warnings.warn(some_fits_failed_message, FitFailedWarning)\n",
      "c:\\Users\\Arist\\OneDrive\\Skrivebord\\DSL labs\\DSL_project2\\venv\\Lib\\site-packages\\sklearn\\model_selection\\_search.py:1051: UserWarning: One or more of the test scores are non-finite: [-6.13023177e+00 -1.54642406e+02 -1.54645538e+02 -9.48330772e+01\n",
      " -1.54676847e+02 -8.31152683e+01 -5.87675197e+00 -2.36665068e+01\n",
      " -6.53277223e+01 -6.68659287e+01 -5.87675197e+00 -2.04329661e+04\n",
      " -1.54641997e+02 -8.08385372e+00 -5.26818819e+00 -1.05173434e+02\n",
      " -6.05217950e+00 -1.20611479e+02             nan -5.38696081e+00]\n",
      "  warnings.warn(\n",
      "c:\\Users\\Arist\\OneDrive\\Skrivebord\\DSL labs\\DSL_project2\\venv\\Lib\\site-packages\\sklearn\\neural_network\\_multilayer_perceptron.py:691: ConvergenceWarning: Stochastic Optimizer: Maximum iterations (200) reached and the optimization hasn't converged yet.\n",
      "  warnings.warn(\n"
     ]
    },
    {
     "data": {
      "text/html": [
       "<style>#sk-container-id-1 {\n",
       "  /* Definition of color scheme common for light and dark mode */\n",
       "  --sklearn-color-text: black;\n",
       "  --sklearn-color-line: gray;\n",
       "  /* Definition of color scheme for unfitted estimators */\n",
       "  --sklearn-color-unfitted-level-0: #fff5e6;\n",
       "  --sklearn-color-unfitted-level-1: #f6e4d2;\n",
       "  --sklearn-color-unfitted-level-2: #ffe0b3;\n",
       "  --sklearn-color-unfitted-level-3: chocolate;\n",
       "  /* Definition of color scheme for fitted estimators */\n",
       "  --sklearn-color-fitted-level-0: #f0f8ff;\n",
       "  --sklearn-color-fitted-level-1: #d4ebff;\n",
       "  --sklearn-color-fitted-level-2: #b3dbfd;\n",
       "  --sklearn-color-fitted-level-3: cornflowerblue;\n",
       "\n",
       "  /* Specific color for light theme */\n",
       "  --sklearn-color-text-on-default-background: var(--sg-text-color, var(--theme-code-foreground, var(--jp-content-font-color1, black)));\n",
       "  --sklearn-color-background: var(--sg-background-color, var(--theme-background, var(--jp-layout-color0, white)));\n",
       "  --sklearn-color-border-box: var(--sg-text-color, var(--theme-code-foreground, var(--jp-content-font-color1, black)));\n",
       "  --sklearn-color-icon: #696969;\n",
       "\n",
       "  @media (prefers-color-scheme: dark) {\n",
       "    /* Redefinition of color scheme for dark theme */\n",
       "    --sklearn-color-text-on-default-background: var(--sg-text-color, var(--theme-code-foreground, var(--jp-content-font-color1, white)));\n",
       "    --sklearn-color-background: var(--sg-background-color, var(--theme-background, var(--jp-layout-color0, #111)));\n",
       "    --sklearn-color-border-box: var(--sg-text-color, var(--theme-code-foreground, var(--jp-content-font-color1, white)));\n",
       "    --sklearn-color-icon: #878787;\n",
       "  }\n",
       "}\n",
       "\n",
       "#sk-container-id-1 {\n",
       "  color: var(--sklearn-color-text);\n",
       "}\n",
       "\n",
       "#sk-container-id-1 pre {\n",
       "  padding: 0;\n",
       "}\n",
       "\n",
       "#sk-container-id-1 input.sk-hidden--visually {\n",
       "  border: 0;\n",
       "  clip: rect(1px 1px 1px 1px);\n",
       "  clip: rect(1px, 1px, 1px, 1px);\n",
       "  height: 1px;\n",
       "  margin: -1px;\n",
       "  overflow: hidden;\n",
       "  padding: 0;\n",
       "  position: absolute;\n",
       "  width: 1px;\n",
       "}\n",
       "\n",
       "#sk-container-id-1 div.sk-dashed-wrapped {\n",
       "  border: 1px dashed var(--sklearn-color-line);\n",
       "  margin: 0 0.4em 0.5em 0.4em;\n",
       "  box-sizing: border-box;\n",
       "  padding-bottom: 0.4em;\n",
       "  background-color: var(--sklearn-color-background);\n",
       "}\n",
       "\n",
       "#sk-container-id-1 div.sk-container {\n",
       "  /* jupyter's `normalize.less` sets `[hidden] { display: none; }`\n",
       "     but bootstrap.min.css set `[hidden] { display: none !important; }`\n",
       "     so we also need the `!important` here to be able to override the\n",
       "     default hidden behavior on the sphinx rendered scikit-learn.org.\n",
       "     See: https://github.com/scikit-learn/scikit-learn/issues/21755 */\n",
       "  display: inline-block !important;\n",
       "  position: relative;\n",
       "}\n",
       "\n",
       "#sk-container-id-1 div.sk-text-repr-fallback {\n",
       "  display: none;\n",
       "}\n",
       "\n",
       "div.sk-parallel-item,\n",
       "div.sk-serial,\n",
       "div.sk-item {\n",
       "  /* draw centered vertical line to link estimators */\n",
       "  background-image: linear-gradient(var(--sklearn-color-text-on-default-background), var(--sklearn-color-text-on-default-background));\n",
       "  background-size: 2px 100%;\n",
       "  background-repeat: no-repeat;\n",
       "  background-position: center center;\n",
       "}\n",
       "\n",
       "/* Parallel-specific style estimator block */\n",
       "\n",
       "#sk-container-id-1 div.sk-parallel-item::after {\n",
       "  content: \"\";\n",
       "  width: 100%;\n",
       "  border-bottom: 2px solid var(--sklearn-color-text-on-default-background);\n",
       "  flex-grow: 1;\n",
       "}\n",
       "\n",
       "#sk-container-id-1 div.sk-parallel {\n",
       "  display: flex;\n",
       "  align-items: stretch;\n",
       "  justify-content: center;\n",
       "  background-color: var(--sklearn-color-background);\n",
       "  position: relative;\n",
       "}\n",
       "\n",
       "#sk-container-id-1 div.sk-parallel-item {\n",
       "  display: flex;\n",
       "  flex-direction: column;\n",
       "}\n",
       "\n",
       "#sk-container-id-1 div.sk-parallel-item:first-child::after {\n",
       "  align-self: flex-end;\n",
       "  width: 50%;\n",
       "}\n",
       "\n",
       "#sk-container-id-1 div.sk-parallel-item:last-child::after {\n",
       "  align-self: flex-start;\n",
       "  width: 50%;\n",
       "}\n",
       "\n",
       "#sk-container-id-1 div.sk-parallel-item:only-child::after {\n",
       "  width: 0;\n",
       "}\n",
       "\n",
       "/* Serial-specific style estimator block */\n",
       "\n",
       "#sk-container-id-1 div.sk-serial {\n",
       "  display: flex;\n",
       "  flex-direction: column;\n",
       "  align-items: center;\n",
       "  background-color: var(--sklearn-color-background);\n",
       "  padding-right: 1em;\n",
       "  padding-left: 1em;\n",
       "}\n",
       "\n",
       "\n",
       "/* Toggleable style: style used for estimator/Pipeline/ColumnTransformer box that is\n",
       "clickable and can be expanded/collapsed.\n",
       "- Pipeline and ColumnTransformer use this feature and define the default style\n",
       "- Estimators will overwrite some part of the style using the `sk-estimator` class\n",
       "*/\n",
       "\n",
       "/* Pipeline and ColumnTransformer style (default) */\n",
       "\n",
       "#sk-container-id-1 div.sk-toggleable {\n",
       "  /* Default theme specific background. It is overwritten whether we have a\n",
       "  specific estimator or a Pipeline/ColumnTransformer */\n",
       "  background-color: var(--sklearn-color-background);\n",
       "}\n",
       "\n",
       "/* Toggleable label */\n",
       "#sk-container-id-1 label.sk-toggleable__label {\n",
       "  cursor: pointer;\n",
       "  display: block;\n",
       "  width: 100%;\n",
       "  margin-bottom: 0;\n",
       "  padding: 0.5em;\n",
       "  box-sizing: border-box;\n",
       "  text-align: center;\n",
       "}\n",
       "\n",
       "#sk-container-id-1 label.sk-toggleable__label-arrow:before {\n",
       "  /* Arrow on the left of the label */\n",
       "  content: \"▸\";\n",
       "  float: left;\n",
       "  margin-right: 0.25em;\n",
       "  color: var(--sklearn-color-icon);\n",
       "}\n",
       "\n",
       "#sk-container-id-1 label.sk-toggleable__label-arrow:hover:before {\n",
       "  color: var(--sklearn-color-text);\n",
       "}\n",
       "\n",
       "/* Toggleable content - dropdown */\n",
       "\n",
       "#sk-container-id-1 div.sk-toggleable__content {\n",
       "  max-height: 0;\n",
       "  max-width: 0;\n",
       "  overflow: hidden;\n",
       "  text-align: left;\n",
       "  /* unfitted */\n",
       "  background-color: var(--sklearn-color-unfitted-level-0);\n",
       "}\n",
       "\n",
       "#sk-container-id-1 div.sk-toggleable__content.fitted {\n",
       "  /* fitted */\n",
       "  background-color: var(--sklearn-color-fitted-level-0);\n",
       "}\n",
       "\n",
       "#sk-container-id-1 div.sk-toggleable__content pre {\n",
       "  margin: 0.2em;\n",
       "  border-radius: 0.25em;\n",
       "  color: var(--sklearn-color-text);\n",
       "  /* unfitted */\n",
       "  background-color: var(--sklearn-color-unfitted-level-0);\n",
       "}\n",
       "\n",
       "#sk-container-id-1 div.sk-toggleable__content.fitted pre {\n",
       "  /* unfitted */\n",
       "  background-color: var(--sklearn-color-fitted-level-0);\n",
       "}\n",
       "\n",
       "#sk-container-id-1 input.sk-toggleable__control:checked~div.sk-toggleable__content {\n",
       "  /* Expand drop-down */\n",
       "  max-height: 200px;\n",
       "  max-width: 100%;\n",
       "  overflow: auto;\n",
       "}\n",
       "\n",
       "#sk-container-id-1 input.sk-toggleable__control:checked~label.sk-toggleable__label-arrow:before {\n",
       "  content: \"▾\";\n",
       "}\n",
       "\n",
       "/* Pipeline/ColumnTransformer-specific style */\n",
       "\n",
       "#sk-container-id-1 div.sk-label input.sk-toggleable__control:checked~label.sk-toggleable__label {\n",
       "  color: var(--sklearn-color-text);\n",
       "  background-color: var(--sklearn-color-unfitted-level-2);\n",
       "}\n",
       "\n",
       "#sk-container-id-1 div.sk-label.fitted input.sk-toggleable__control:checked~label.sk-toggleable__label {\n",
       "  background-color: var(--sklearn-color-fitted-level-2);\n",
       "}\n",
       "\n",
       "/* Estimator-specific style */\n",
       "\n",
       "/* Colorize estimator box */\n",
       "#sk-container-id-1 div.sk-estimator input.sk-toggleable__control:checked~label.sk-toggleable__label {\n",
       "  /* unfitted */\n",
       "  background-color: var(--sklearn-color-unfitted-level-2);\n",
       "}\n",
       "\n",
       "#sk-container-id-1 div.sk-estimator.fitted input.sk-toggleable__control:checked~label.sk-toggleable__label {\n",
       "  /* fitted */\n",
       "  background-color: var(--sklearn-color-fitted-level-2);\n",
       "}\n",
       "\n",
       "#sk-container-id-1 div.sk-label label.sk-toggleable__label,\n",
       "#sk-container-id-1 div.sk-label label {\n",
       "  /* The background is the default theme color */\n",
       "  color: var(--sklearn-color-text-on-default-background);\n",
       "}\n",
       "\n",
       "/* On hover, darken the color of the background */\n",
       "#sk-container-id-1 div.sk-label:hover label.sk-toggleable__label {\n",
       "  color: var(--sklearn-color-text);\n",
       "  background-color: var(--sklearn-color-unfitted-level-2);\n",
       "}\n",
       "\n",
       "/* Label box, darken color on hover, fitted */\n",
       "#sk-container-id-1 div.sk-label.fitted:hover label.sk-toggleable__label.fitted {\n",
       "  color: var(--sklearn-color-text);\n",
       "  background-color: var(--sklearn-color-fitted-level-2);\n",
       "}\n",
       "\n",
       "/* Estimator label */\n",
       "\n",
       "#sk-container-id-1 div.sk-label label {\n",
       "  font-family: monospace;\n",
       "  font-weight: bold;\n",
       "  display: inline-block;\n",
       "  line-height: 1.2em;\n",
       "}\n",
       "\n",
       "#sk-container-id-1 div.sk-label-container {\n",
       "  text-align: center;\n",
       "}\n",
       "\n",
       "/* Estimator-specific */\n",
       "#sk-container-id-1 div.sk-estimator {\n",
       "  font-family: monospace;\n",
       "  border: 1px dotted var(--sklearn-color-border-box);\n",
       "  border-radius: 0.25em;\n",
       "  box-sizing: border-box;\n",
       "  margin-bottom: 0.5em;\n",
       "  /* unfitted */\n",
       "  background-color: var(--sklearn-color-unfitted-level-0);\n",
       "}\n",
       "\n",
       "#sk-container-id-1 div.sk-estimator.fitted {\n",
       "  /* fitted */\n",
       "  background-color: var(--sklearn-color-fitted-level-0);\n",
       "}\n",
       "\n",
       "/* on hover */\n",
       "#sk-container-id-1 div.sk-estimator:hover {\n",
       "  /* unfitted */\n",
       "  background-color: var(--sklearn-color-unfitted-level-2);\n",
       "}\n",
       "\n",
       "#sk-container-id-1 div.sk-estimator.fitted:hover {\n",
       "  /* fitted */\n",
       "  background-color: var(--sklearn-color-fitted-level-2);\n",
       "}\n",
       "\n",
       "/* Specification for estimator info (e.g. \"i\" and \"?\") */\n",
       "\n",
       "/* Common style for \"i\" and \"?\" */\n",
       "\n",
       ".sk-estimator-doc-link,\n",
       "a:link.sk-estimator-doc-link,\n",
       "a:visited.sk-estimator-doc-link {\n",
       "  float: right;\n",
       "  font-size: smaller;\n",
       "  line-height: 1em;\n",
       "  font-family: monospace;\n",
       "  background-color: var(--sklearn-color-background);\n",
       "  border-radius: 1em;\n",
       "  height: 1em;\n",
       "  width: 1em;\n",
       "  text-decoration: none !important;\n",
       "  margin-left: 1ex;\n",
       "  /* unfitted */\n",
       "  border: var(--sklearn-color-unfitted-level-1) 1pt solid;\n",
       "  color: var(--sklearn-color-unfitted-level-1);\n",
       "}\n",
       "\n",
       ".sk-estimator-doc-link.fitted,\n",
       "a:link.sk-estimator-doc-link.fitted,\n",
       "a:visited.sk-estimator-doc-link.fitted {\n",
       "  /* fitted */\n",
       "  border: var(--sklearn-color-fitted-level-1) 1pt solid;\n",
       "  color: var(--sklearn-color-fitted-level-1);\n",
       "}\n",
       "\n",
       "/* On hover */\n",
       "div.sk-estimator:hover .sk-estimator-doc-link:hover,\n",
       ".sk-estimator-doc-link:hover,\n",
       "div.sk-label-container:hover .sk-estimator-doc-link:hover,\n",
       ".sk-estimator-doc-link:hover {\n",
       "  /* unfitted */\n",
       "  background-color: var(--sklearn-color-unfitted-level-3);\n",
       "  color: var(--sklearn-color-background);\n",
       "  text-decoration: none;\n",
       "}\n",
       "\n",
       "div.sk-estimator.fitted:hover .sk-estimator-doc-link.fitted:hover,\n",
       ".sk-estimator-doc-link.fitted:hover,\n",
       "div.sk-label-container:hover .sk-estimator-doc-link.fitted:hover,\n",
       ".sk-estimator-doc-link.fitted:hover {\n",
       "  /* fitted */\n",
       "  background-color: var(--sklearn-color-fitted-level-3);\n",
       "  color: var(--sklearn-color-background);\n",
       "  text-decoration: none;\n",
       "}\n",
       "\n",
       "/* Span, style for the box shown on hovering the info icon */\n",
       ".sk-estimator-doc-link span {\n",
       "  display: none;\n",
       "  z-index: 9999;\n",
       "  position: relative;\n",
       "  font-weight: normal;\n",
       "  right: .2ex;\n",
       "  padding: .5ex;\n",
       "  margin: .5ex;\n",
       "  width: min-content;\n",
       "  min-width: 20ex;\n",
       "  max-width: 50ex;\n",
       "  color: var(--sklearn-color-text);\n",
       "  box-shadow: 2pt 2pt 4pt #999;\n",
       "  /* unfitted */\n",
       "  background: var(--sklearn-color-unfitted-level-0);\n",
       "  border: .5pt solid var(--sklearn-color-unfitted-level-3);\n",
       "}\n",
       "\n",
       ".sk-estimator-doc-link.fitted span {\n",
       "  /* fitted */\n",
       "  background: var(--sklearn-color-fitted-level-0);\n",
       "  border: var(--sklearn-color-fitted-level-3);\n",
       "}\n",
       "\n",
       ".sk-estimator-doc-link:hover span {\n",
       "  display: block;\n",
       "}\n",
       "\n",
       "/* \"?\"-specific style due to the `<a>` HTML tag */\n",
       "\n",
       "#sk-container-id-1 a.estimator_doc_link {\n",
       "  float: right;\n",
       "  font-size: 1rem;\n",
       "  line-height: 1em;\n",
       "  font-family: monospace;\n",
       "  background-color: var(--sklearn-color-background);\n",
       "  border-radius: 1rem;\n",
       "  height: 1rem;\n",
       "  width: 1rem;\n",
       "  text-decoration: none;\n",
       "  /* unfitted */\n",
       "  color: var(--sklearn-color-unfitted-level-1);\n",
       "  border: var(--sklearn-color-unfitted-level-1) 1pt solid;\n",
       "}\n",
       "\n",
       "#sk-container-id-1 a.estimator_doc_link.fitted {\n",
       "  /* fitted */\n",
       "  border: var(--sklearn-color-fitted-level-1) 1pt solid;\n",
       "  color: var(--sklearn-color-fitted-level-1);\n",
       "}\n",
       "\n",
       "/* On hover */\n",
       "#sk-container-id-1 a.estimator_doc_link:hover {\n",
       "  /* unfitted */\n",
       "  background-color: var(--sklearn-color-unfitted-level-3);\n",
       "  color: var(--sklearn-color-background);\n",
       "  text-decoration: none;\n",
       "}\n",
       "\n",
       "#sk-container-id-1 a.estimator_doc_link.fitted:hover {\n",
       "  /* fitted */\n",
       "  background-color: var(--sklearn-color-fitted-level-3);\n",
       "}\n",
       "</style><div id=\"sk-container-id-1\" class=\"sk-top-container\"><div class=\"sk-text-repr-fallback\"><pre>RandomizedSearchCV(cv=3,\n",
       "                   estimator=Pipeline(steps=[(&#x27;scale&#x27;, StandardScaler()),\n",
       "                                             (&#x27;clf&#x27;,\n",
       "                                              MLPRegressor(learning_rate_init=0.01,\n",
       "                                                           n_iter_no_change=30,\n",
       "                                                           random_state=42))]),\n",
       "                   n_iter=20,\n",
       "                   param_distributions={&#x27;clf__activation&#x27;: [&#x27;relu&#x27;, &#x27;logistic&#x27;,\n",
       "                                                            &#x27;tanh&#x27;],\n",
       "                                        &#x27;clf__hidden_layer_sizes&#x27;: [(50,),\n",
       "                                                                    (25, 25),\n",
       "                                                                    (35, 15),\n",
       "                                                                    (20, 10,\n",
       "                                                                     20),\n",
       "                                                                    (25, 15,\n",
       "                                                                     10),\n",
       "                                                                    (20, 15, 10,\n",
       "                                                                     5),\n",
       "                                                                    (15, 10, 10,\n",
       "                                                                     15)],\n",
       "                                        &#x27;clf__learning_rate&#x27;: [&#x27;constant&#x27;,\n",
       "                                                               &#x27;invscaling&#x27;,\n",
       "                                                               &#x27;adaptive&#x27;],\n",
       "                                        &#x27;clf__learning_rate_init&#x27;: [0.01,\n",
       "                                                                    0.001],\n",
       "                                        &#x27;clf__solver&#x27;: [&#x27;adam&#x27;, &#x27;sgd&#x27;,\n",
       "                                                        &#x27;lbfgs&#x27;]},\n",
       "                   scoring=make_scorer(mean_euclid_dist, greater_is_better=False, response_method=&#x27;predict&#x27;),\n",
       "                   verbose=2)</pre><b>In a Jupyter environment, please rerun this cell to show the HTML representation or trust the notebook. <br />On GitHub, the HTML representation is unable to render, please try loading this page with nbviewer.org.</b></div><div class=\"sk-container\" hidden><div class=\"sk-item sk-dashed-wrapped\"><div class=\"sk-label-container\"><div class=\"sk-label fitted sk-toggleable\"><input class=\"sk-toggleable__control sk-hidden--visually\" id=\"sk-estimator-id-1\" type=\"checkbox\" ><label for=\"sk-estimator-id-1\" class=\"sk-toggleable__label fitted sk-toggleable__label-arrow fitted\">&nbsp;&nbsp;RandomizedSearchCV<a class=\"sk-estimator-doc-link fitted\" rel=\"noreferrer\" target=\"_blank\" href=\"https://scikit-learn.org/1.4/modules/generated/sklearn.model_selection.RandomizedSearchCV.html\">?<span>Documentation for RandomizedSearchCV</span></a><span class=\"sk-estimator-doc-link fitted\">i<span>Fitted</span></span></label><div class=\"sk-toggleable__content fitted\"><pre>RandomizedSearchCV(cv=3,\n",
       "                   estimator=Pipeline(steps=[(&#x27;scale&#x27;, StandardScaler()),\n",
       "                                             (&#x27;clf&#x27;,\n",
       "                                              MLPRegressor(learning_rate_init=0.01,\n",
       "                                                           n_iter_no_change=30,\n",
       "                                                           random_state=42))]),\n",
       "                   n_iter=20,\n",
       "                   param_distributions={&#x27;clf__activation&#x27;: [&#x27;relu&#x27;, &#x27;logistic&#x27;,\n",
       "                                                            &#x27;tanh&#x27;],\n",
       "                                        &#x27;clf__hidden_layer_sizes&#x27;: [(50,),\n",
       "                                                                    (25, 25),\n",
       "                                                                    (35, 15),\n",
       "                                                                    (20, 10,\n",
       "                                                                     20),\n",
       "                                                                    (25, 15,\n",
       "                                                                     10),\n",
       "                                                                    (20, 15, 10,\n",
       "                                                                     5),\n",
       "                                                                    (15, 10, 10,\n",
       "                                                                     15)],\n",
       "                                        &#x27;clf__learning_rate&#x27;: [&#x27;constant&#x27;,\n",
       "                                                               &#x27;invscaling&#x27;,\n",
       "                                                               &#x27;adaptive&#x27;],\n",
       "                                        &#x27;clf__learning_rate_init&#x27;: [0.01,\n",
       "                                                                    0.001],\n",
       "                                        &#x27;clf__solver&#x27;: [&#x27;adam&#x27;, &#x27;sgd&#x27;,\n",
       "                                                        &#x27;lbfgs&#x27;]},\n",
       "                   scoring=make_scorer(mean_euclid_dist, greater_is_better=False, response_method=&#x27;predict&#x27;),\n",
       "                   verbose=2)</pre></div> </div></div><div class=\"sk-parallel\"><div class=\"sk-parallel-item\"><div class=\"sk-item\"><div class=\"sk-label-container\"><div class=\"sk-label fitted sk-toggleable\"><input class=\"sk-toggleable__control sk-hidden--visually\" id=\"sk-estimator-id-2\" type=\"checkbox\" ><label for=\"sk-estimator-id-2\" class=\"sk-toggleable__label fitted sk-toggleable__label-arrow fitted\">estimator: Pipeline</label><div class=\"sk-toggleable__content fitted\"><pre>Pipeline(steps=[(&#x27;scale&#x27;, StandardScaler()),\n",
       "                (&#x27;clf&#x27;,\n",
       "                 MLPRegressor(learning_rate_init=0.01, n_iter_no_change=30,\n",
       "                              random_state=42))])</pre></div> </div></div><div class=\"sk-serial\"><div class=\"sk-item\"><div class=\"sk-serial\"><div class=\"sk-item\"><div class=\"sk-estimator fitted sk-toggleable\"><input class=\"sk-toggleable__control sk-hidden--visually\" id=\"sk-estimator-id-3\" type=\"checkbox\" ><label for=\"sk-estimator-id-3\" class=\"sk-toggleable__label fitted sk-toggleable__label-arrow fitted\">&nbsp;StandardScaler<a class=\"sk-estimator-doc-link fitted\" rel=\"noreferrer\" target=\"_blank\" href=\"https://scikit-learn.org/1.4/modules/generated/sklearn.preprocessing.StandardScaler.html\">?<span>Documentation for StandardScaler</span></a></label><div class=\"sk-toggleable__content fitted\"><pre>StandardScaler()</pre></div> </div></div><div class=\"sk-item\"><div class=\"sk-estimator fitted sk-toggleable\"><input class=\"sk-toggleable__control sk-hidden--visually\" id=\"sk-estimator-id-4\" type=\"checkbox\" ><label for=\"sk-estimator-id-4\" class=\"sk-toggleable__label fitted sk-toggleable__label-arrow fitted\">&nbsp;MLPRegressor<a class=\"sk-estimator-doc-link fitted\" rel=\"noreferrer\" target=\"_blank\" href=\"https://scikit-learn.org/1.4/modules/generated/sklearn.neural_network.MLPRegressor.html\">?<span>Documentation for MLPRegressor</span></a></label><div class=\"sk-toggleable__content fitted\"><pre>MLPRegressor(learning_rate_init=0.01, n_iter_no_change=30, random_state=42)</pre></div> </div></div></div></div></div></div></div></div></div></div></div>"
      ],
      "text/plain": [
       "RandomizedSearchCV(cv=3,\n",
       "                   estimator=Pipeline(steps=[('scale', StandardScaler()),\n",
       "                                             ('clf',\n",
       "                                              MLPRegressor(learning_rate_init=0.01,\n",
       "                                                           n_iter_no_change=30,\n",
       "                                                           random_state=42))]),\n",
       "                   n_iter=20,\n",
       "                   param_distributions={'clf__activation': ['relu', 'logistic',\n",
       "                                                            'tanh'],\n",
       "                                        'clf__hidden_layer_sizes': [(50,),\n",
       "                                                                    (25, 25),\n",
       "                                                                    (35, 15),\n",
       "                                                                    (20, 10,\n",
       "                                                                     20),\n",
       "                                                                    (25, 15,\n",
       "                                                                     10),\n",
       "                                                                    (20, 15, 10,\n",
       "                                                                     5),\n",
       "                                                                    (15, 10, 10,\n",
       "                                                                     15)],\n",
       "                                        'clf__learning_rate': ['constant',\n",
       "                                                               'invscaling',\n",
       "                                                               'adaptive'],\n",
       "                                        'clf__learning_rate_init': [0.01,\n",
       "                                                                    0.001],\n",
       "                                        'clf__solver': ['adam', 'sgd',\n",
       "                                                        'lbfgs']},\n",
       "                   scoring=make_scorer(mean_euclid_dist, greater_is_better=False, response_method='predict'),\n",
       "                   verbose=2)"
      ]
     },
     "execution_count": 9,
     "metadata": {},
     "output_type": "execute_result"
    }
   ],
   "source": [
    "# n_iter is the amount of combinations to test\n",
    "gridsearch = RandomizedSearchCV(pipe, param_grid, scoring=score, cv=3, verbose=2, n_iter=20)\n",
    "gridsearch.fit(X_train, y_train)"
   ]
  },
  {
   "cell_type": "code",
   "execution_count": 11,
   "metadata": {},
   "outputs": [
    {
     "data": {
      "text/html": [
       "<div>\n",
       "<style scoped>\n",
       "    .dataframe tbody tr th:only-of-type {\n",
       "        vertical-align: middle;\n",
       "    }\n",
       "\n",
       "    .dataframe tbody tr th {\n",
       "        vertical-align: top;\n",
       "    }\n",
       "\n",
       "    .dataframe thead th {\n",
       "        text-align: right;\n",
       "    }\n",
       "</style>\n",
       "<table border=\"1\" class=\"dataframe\">\n",
       "  <thead>\n",
       "    <tr style=\"text-align: right;\">\n",
       "      <th></th>\n",
       "      <th>clf__solver</th>\n",
       "      <th>clf__learning_rate_init</th>\n",
       "      <th>clf__learning_rate</th>\n",
       "      <th>clf__hidden_layer_sizes</th>\n",
       "      <th>clf__activation</th>\n",
       "      <th>MED</th>\n",
       "      <th>Time</th>\n",
       "    </tr>\n",
       "  </thead>\n",
       "  <tbody>\n",
       "    <tr>\n",
       "      <th>14</th>\n",
       "      <td>adam</td>\n",
       "      <td>0.001</td>\n",
       "      <td>invscaling</td>\n",
       "      <td>(15, 10, 10, 15)</td>\n",
       "      <td>logistic</td>\n",
       "      <td>5.268188</td>\n",
       "      <td>221.332109</td>\n",
       "    </tr>\n",
       "    <tr>\n",
       "      <th>19</th>\n",
       "      <td>adam</td>\n",
       "      <td>0.010</td>\n",
       "      <td>constant</td>\n",
       "      <td>(25, 25)</td>\n",
       "      <td>tanh</td>\n",
       "      <td>5.386961</td>\n",
       "      <td>147.341025</td>\n",
       "    </tr>\n",
       "    <tr>\n",
       "      <th>10</th>\n",
       "      <td>adam</td>\n",
       "      <td>0.010</td>\n",
       "      <td>constant</td>\n",
       "      <td>(20, 15, 10, 5)</td>\n",
       "      <td>tanh</td>\n",
       "      <td>5.876752</td>\n",
       "      <td>127.638233</td>\n",
       "    </tr>\n",
       "    <tr>\n",
       "      <th>6</th>\n",
       "      <td>adam</td>\n",
       "      <td>0.010</td>\n",
       "      <td>adaptive</td>\n",
       "      <td>(20, 15, 10, 5)</td>\n",
       "      <td>tanh</td>\n",
       "      <td>5.876752</td>\n",
       "      <td>149.319709</td>\n",
       "    </tr>\n",
       "    <tr>\n",
       "      <th>16</th>\n",
       "      <td>adam</td>\n",
       "      <td>0.001</td>\n",
       "      <td>invscaling</td>\n",
       "      <td>(25, 25)</td>\n",
       "      <td>relu</td>\n",
       "      <td>6.052179</td>\n",
       "      <td>168.044488</td>\n",
       "    </tr>\n",
       "    <tr>\n",
       "      <th>0</th>\n",
       "      <td>adam</td>\n",
       "      <td>0.010</td>\n",
       "      <td>invscaling</td>\n",
       "      <td>(50,)</td>\n",
       "      <td>relu</td>\n",
       "      <td>6.130232</td>\n",
       "      <td>99.968494</td>\n",
       "    </tr>\n",
       "    <tr>\n",
       "      <th>13</th>\n",
       "      <td>lbfgs</td>\n",
       "      <td>0.010</td>\n",
       "      <td>invscaling</td>\n",
       "      <td>(25, 25)</td>\n",
       "      <td>relu</td>\n",
       "      <td>8.083854</td>\n",
       "      <td>50.737288</td>\n",
       "    </tr>\n",
       "    <tr>\n",
       "      <th>7</th>\n",
       "      <td>lbfgs</td>\n",
       "      <td>0.010</td>\n",
       "      <td>invscaling</td>\n",
       "      <td>(25, 25)</td>\n",
       "      <td>logistic</td>\n",
       "      <td>23.666507</td>\n",
       "      <td>100.681770</td>\n",
       "    </tr>\n",
       "    <tr>\n",
       "      <th>8</th>\n",
       "      <td>lbfgs</td>\n",
       "      <td>0.001</td>\n",
       "      <td>adaptive</td>\n",
       "      <td>(25, 15, 10)</td>\n",
       "      <td>tanh</td>\n",
       "      <td>65.327722</td>\n",
       "      <td>133.476104</td>\n",
       "    </tr>\n",
       "    <tr>\n",
       "      <th>9</th>\n",
       "      <td>sgd</td>\n",
       "      <td>0.010</td>\n",
       "      <td>constant</td>\n",
       "      <td>(25, 15, 10)</td>\n",
       "      <td>tanh</td>\n",
       "      <td>66.865929</td>\n",
       "      <td>26.034492</td>\n",
       "    </tr>\n",
       "    <tr>\n",
       "      <th>5</th>\n",
       "      <td>sgd</td>\n",
       "      <td>0.010</td>\n",
       "      <td>adaptive</td>\n",
       "      <td>(20, 15, 10, 5)</td>\n",
       "      <td>tanh</td>\n",
       "      <td>83.115268</td>\n",
       "      <td>176.397813</td>\n",
       "    </tr>\n",
       "    <tr>\n",
       "      <th>3</th>\n",
       "      <td>lbfgs</td>\n",
       "      <td>0.010</td>\n",
       "      <td>adaptive</td>\n",
       "      <td>(25, 15, 10)</td>\n",
       "      <td>logistic</td>\n",
       "      <td>94.833077</td>\n",
       "      <td>119.979884</td>\n",
       "    </tr>\n",
       "    <tr>\n",
       "      <th>15</th>\n",
       "      <td>lbfgs</td>\n",
       "      <td>0.001</td>\n",
       "      <td>invscaling</td>\n",
       "      <td>(20, 15, 10, 5)</td>\n",
       "      <td>logistic</td>\n",
       "      <td>105.173434</td>\n",
       "      <td>166.029327</td>\n",
       "    </tr>\n",
       "    <tr>\n",
       "      <th>17</th>\n",
       "      <td>sgd</td>\n",
       "      <td>0.010</td>\n",
       "      <td>constant</td>\n",
       "      <td>(25, 25)</td>\n",
       "      <td>logistic</td>\n",
       "      <td>120.611479</td>\n",
       "      <td>72.390676</td>\n",
       "    </tr>\n",
       "    <tr>\n",
       "      <th>12</th>\n",
       "      <td>sgd</td>\n",
       "      <td>0.010</td>\n",
       "      <td>adaptive</td>\n",
       "      <td>(15, 10, 10, 15)</td>\n",
       "      <td>relu</td>\n",
       "      <td>154.641997</td>\n",
       "      <td>127.625742</td>\n",
       "    </tr>\n",
       "    <tr>\n",
       "      <th>1</th>\n",
       "      <td>sgd</td>\n",
       "      <td>0.010</td>\n",
       "      <td>adaptive</td>\n",
       "      <td>(15, 10, 10, 15)</td>\n",
       "      <td>logistic</td>\n",
       "      <td>154.642406</td>\n",
       "      <td>176.512461</td>\n",
       "    </tr>\n",
       "    <tr>\n",
       "      <th>2</th>\n",
       "      <td>sgd</td>\n",
       "      <td>0.001</td>\n",
       "      <td>constant</td>\n",
       "      <td>(25, 15, 10)</td>\n",
       "      <td>relu</td>\n",
       "      <td>154.645538</td>\n",
       "      <td>56.185056</td>\n",
       "    </tr>\n",
       "    <tr>\n",
       "      <th>4</th>\n",
       "      <td>sgd</td>\n",
       "      <td>0.010</td>\n",
       "      <td>constant</td>\n",
       "      <td>(25, 15, 10)</td>\n",
       "      <td>logistic</td>\n",
       "      <td>154.676847</td>\n",
       "      <td>47.899141</td>\n",
       "    </tr>\n",
       "    <tr>\n",
       "      <th>11</th>\n",
       "      <td>sgd</td>\n",
       "      <td>0.010</td>\n",
       "      <td>invscaling</td>\n",
       "      <td>(25, 15, 10)</td>\n",
       "      <td>relu</td>\n",
       "      <td>20432.966090</td>\n",
       "      <td>18.475515</td>\n",
       "    </tr>\n",
       "    <tr>\n",
       "      <th>18</th>\n",
       "      <td>sgd</td>\n",
       "      <td>0.001</td>\n",
       "      <td>invscaling</td>\n",
       "      <td>(25, 25)</td>\n",
       "      <td>relu</td>\n",
       "      <td>NaN</td>\n",
       "      <td>59.524766</td>\n",
       "    </tr>\n",
       "  </tbody>\n",
       "</table>\n",
       "</div>"
      ],
      "text/plain": [
       "   clf__solver  clf__learning_rate_init clf__learning_rate  \\\n",
       "14        adam                    0.001         invscaling   \n",
       "19        adam                    0.010           constant   \n",
       "10        adam                    0.010           constant   \n",
       "6         adam                    0.010           adaptive   \n",
       "16        adam                    0.001         invscaling   \n",
       "0         adam                    0.010         invscaling   \n",
       "13       lbfgs                    0.010         invscaling   \n",
       "7        lbfgs                    0.010         invscaling   \n",
       "8        lbfgs                    0.001           adaptive   \n",
       "9          sgd                    0.010           constant   \n",
       "5          sgd                    0.010           adaptive   \n",
       "3        lbfgs                    0.010           adaptive   \n",
       "15       lbfgs                    0.001         invscaling   \n",
       "17         sgd                    0.010           constant   \n",
       "12         sgd                    0.010           adaptive   \n",
       "1          sgd                    0.010           adaptive   \n",
       "2          sgd                    0.001           constant   \n",
       "4          sgd                    0.010           constant   \n",
       "11         sgd                    0.010         invscaling   \n",
       "18         sgd                    0.001         invscaling   \n",
       "\n",
       "   clf__hidden_layer_sizes clf__activation           MED        Time  \n",
       "14        (15, 10, 10, 15)        logistic      5.268188  221.332109  \n",
       "19                (25, 25)            tanh      5.386961  147.341025  \n",
       "10         (20, 15, 10, 5)            tanh      5.876752  127.638233  \n",
       "6          (20, 15, 10, 5)            tanh      5.876752  149.319709  \n",
       "16                (25, 25)            relu      6.052179  168.044488  \n",
       "0                    (50,)            relu      6.130232   99.968494  \n",
       "13                (25, 25)            relu      8.083854   50.737288  \n",
       "7                 (25, 25)        logistic     23.666507  100.681770  \n",
       "8             (25, 15, 10)            tanh     65.327722  133.476104  \n",
       "9             (25, 15, 10)            tanh     66.865929   26.034492  \n",
       "5          (20, 15, 10, 5)            tanh     83.115268  176.397813  \n",
       "3             (25, 15, 10)        logistic     94.833077  119.979884  \n",
       "15         (20, 15, 10, 5)        logistic    105.173434  166.029327  \n",
       "17                (25, 25)        logistic    120.611479   72.390676  \n",
       "12        (15, 10, 10, 15)            relu    154.641997  127.625742  \n",
       "1         (15, 10, 10, 15)        logistic    154.642406  176.512461  \n",
       "2             (25, 15, 10)            relu    154.645538   56.185056  \n",
       "4             (25, 15, 10)        logistic    154.676847   47.899141  \n",
       "11            (25, 15, 10)            relu  20432.966090   18.475515  \n",
       "18                (25, 25)            relu           NaN   59.524766  "
      ]
     },
     "metadata": {},
     "output_type": "display_data"
    },
    {
     "name": "stderr",
     "output_type": "stream",
     "text": [
      "C:\\Users\\Arist\\AppData\\Local\\Temp\\ipykernel_15488\\2880302905.py:16: FutureWarning: use_inf_as_na option is deprecated and will be removed in a future version. Convert inf values to NaN before operating instead.\n",
      "  pd.reset_option('all')\n"
     ]
    }
   ],
   "source": [
    "results = pd.concat([pd.DataFrame(gridsearch.cv_results_[\"params\"]),\n",
    "                     -pd.DataFrame(gridsearch.cv_results_[\"mean_test_score\"], columns=[\"MED\"]),\n",
    "                     pd.DataFrame(gridsearch.cv_results_[\"mean_fit_time\"], columns=[\"Time\"])],\n",
    "                     axis=1)\n",
    "df = results.sort_values('MED')\n",
    "\n",
    "# Permanently changes the pandas settings\n",
    "pd.set_option('display.max_rows', None)\n",
    "pd.set_option('display.max_columns', None)\n",
    "pd.set_option('display.width', None)\n",
    "pd.set_option('display.max_colwidth', None)\n",
    " \n",
    "# All dataframes hereafter reflect these changes.\n",
    "display(df)\n",
    "\n",
    "pd.reset_option('all')"
   ]
  }
 ],
 "metadata": {
  "kernelspec": {
   "display_name": "venv",
   "language": "python",
   "name": "python3"
  },
  "language_info": {
   "codemirror_mode": {
    "name": "ipython",
    "version": 3
   },
   "file_extension": ".py",
   "mimetype": "text/x-python",
   "name": "python",
   "nbconvert_exporter": "python",
   "pygments_lexer": "ipython3",
   "version": "3.11.0"
  }
 },
 "nbformat": 4,
 "nbformat_minor": 2
}
